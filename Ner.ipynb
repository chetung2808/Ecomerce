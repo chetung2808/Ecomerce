{
  "nbformat": 4,
  "nbformat_minor": 0,
  "metadata": {
    "colab": {
      "provenance": [],
      "gpuType": "T4",
      "include_colab_link": true
    },
    "kernelspec": {
      "name": "python3",
      "display_name": "Python 3"
    },
    "language_info": {
      "name": "python"
    },
    "accelerator": "GPU"
  },
  "cells": [
    {
      "cell_type": "markdown",
      "metadata": {
        "id": "view-in-github",
        "colab_type": "text"
      },
      "source": [
        "<a href=\"https://colab.research.google.com/github/chetung2808/Ecomerce/blob/main/Ner.ipynb\" target=\"_parent\"><img src=\"https://colab.research.google.com/assets/colab-badge.svg\" alt=\"Open In Colab\"/></a>"
      ]
    },
    {
      "cell_type": "code",
      "execution_count": null,
      "metadata": {
        "colab": {
          "base_uri": "https://localhost:8080/"
        },
        "id": "ugnH19SI6d2A",
        "outputId": "4a038faf-f252-43c3-e599-c365af2ab12a"
      },
      "outputs": [
        {
          "output_type": "stream",
          "name": "stdout",
          "text": [
            "Cloning into 'unanswerable_qa'...\n",
            "remote: Enumerating objects: 52, done.\u001b[K\n",
            "remote: Counting objects: 100% (52/52), done.\u001b[K\n",
            "remote: Compressing objects: 100% (38/38), done.\u001b[K\n",
            "remote: Total 52 (delta 19), reused 36 (delta 12), pack-reused 0\u001b[K\n",
            "Unpacking objects: 100% (52/52), 92.21 KiB | 3.69 MiB/s, done.\n"
          ]
        }
      ],
      "source": [
        "!git clone https://github.com/AkariAsai/unanswerable_qa.git"
      ]
    },
    {
      "cell_type": "code",
      "source": [
        "!apt-get install python3.8\n",
        "!sudo update-alternatives --install /usr/bin/python3 python3 /usr/bin/python3.8 1\n",
        "!sudo update-alternatives --config python3\n",
        "!sudo apt install python3-pip"
      ],
      "metadata": {
        "colab": {
          "base_uri": "https://localhost:8080/"
        },
        "id": "TrLkV79U7S7z",
        "outputId": "273e7549-a443-432d-9edf-66d1b5f05f4c"
      },
      "execution_count": null,
      "outputs": [
        {
          "output_type": "stream",
          "name": "stdout",
          "text": [
            "Reading package lists... Done\n",
            "Building dependency tree       \n",
            "Reading state information... Done\n",
            "python3.8 is already the newest version (3.8.10-0ubuntu1~20.04.8).\n",
            "python3.8 set to manually installed.\n",
            "0 upgraded, 0 newly installed, 0 to remove and 46 not upgraded.\n",
            "There are 2 choices for the alternative python3 (providing /usr/bin/python3).\n",
            "\n",
            "  Selection    Path                 Priority   Status\n",
            "------------------------------------------------------------\n",
            "* 0            /usr/bin/python3.10   2         auto mode\n",
            "  1            /usr/bin/python3.10   2         manual mode\n",
            "  2            /usr/bin/python3.8    1         manual mode\n",
            "\n",
            "Press <enter> to keep the current choice[*], or type selection number: 2\n",
            "update-alternatives: using /usr/bin/python3.8 to provide /usr/bin/python3 (python3) in manual mode\n",
            "Reading package lists... Done\n",
            "Building dependency tree       \n",
            "Reading state information... Done\n",
            "The following additional packages will be installed:\n",
            "  python-pip-whl python3-setuptools python3-wheel\n",
            "Suggested packages:\n",
            "  python-setuptools-doc\n",
            "The following NEW packages will be installed:\n",
            "  python-pip-whl python3-pip python3-setuptools python3-wheel\n",
            "0 upgraded, 4 newly installed, 0 to remove and 46 not upgraded.\n",
            "Need to get 2,389 kB of archives.\n",
            "After this operation, 4,933 kB of additional disk space will be used.\n",
            "Get:1 http://archive.ubuntu.com/ubuntu focal-updates/universe amd64 python-pip-whl all 20.0.2-5ubuntu1.9 [1,805 kB]\n",
            "Get:2 http://archive.ubuntu.com/ubuntu focal-updates/main amd64 python3-setuptools all 45.2.0-1ubuntu0.1 [330 kB]\n",
            "Get:3 http://archive.ubuntu.com/ubuntu focal-updates/universe amd64 python3-wheel all 0.34.2-1ubuntu0.1 [23.9 kB]\n",
            "Get:4 http://archive.ubuntu.com/ubuntu focal-updates/universe amd64 python3-pip all 20.0.2-5ubuntu1.9 [231 kB]\n",
            "Fetched 2,389 kB in 1s (1,627 kB/s)\n",
            "debconf: unable to initialize frontend: Dialog\n",
            "debconf: (No usable dialog-like program is installed, so the dialog based frontend cannot be used. at /usr/share/perl5/Debconf/FrontEnd/Dialog.pm line 76, <> line 4.)\n",
            "debconf: falling back to frontend: Readline\n",
            "debconf: unable to initialize frontend: Readline\n",
            "debconf: (This frontend requires a controlling tty.)\n",
            "debconf: falling back to frontend: Teletype\n",
            "dpkg-preconfigure: unable to re-open stdin: \n",
            "Selecting previously unselected package python-pip-whl.\n",
            "(Reading database ... 122541 files and directories currently installed.)\n",
            "Preparing to unpack .../python-pip-whl_20.0.2-5ubuntu1.9_all.deb ...\n",
            "Unpacking python-pip-whl (20.0.2-5ubuntu1.9) ...\n",
            "Selecting previously unselected package python3-setuptools.\n",
            "Preparing to unpack .../python3-setuptools_45.2.0-1ubuntu0.1_all.deb ...\n",
            "Unpacking python3-setuptools (45.2.0-1ubuntu0.1) ...\n",
            "Selecting previously unselected package python3-wheel.\n",
            "Preparing to unpack .../python3-wheel_0.34.2-1ubuntu0.1_all.deb ...\n",
            "Unpacking python3-wheel (0.34.2-1ubuntu0.1) ...\n",
            "Selecting previously unselected package python3-pip.\n",
            "Preparing to unpack .../python3-pip_20.0.2-5ubuntu1.9_all.deb ...\n",
            "Unpacking python3-pip (20.0.2-5ubuntu1.9) ...\n",
            "Setting up python3-setuptools (45.2.0-1ubuntu0.1) ...\n",
            "Setting up python3-wheel (0.34.2-1ubuntu0.1) ...\n",
            "Setting up python-pip-whl (20.0.2-5ubuntu1.9) ...\n",
            "Setting up python3-pip (20.0.2-5ubuntu1.9) ...\n",
            "Processing triggers for man-db (2.9.1-1) ...\n"
          ]
        }
      ]
    },
    {
      "cell_type": "code",
      "source": [
        "pip install urllib3==1.25.11"
      ],
      "metadata": {
        "id": "-uA1PHJ4M-tj"
      },
      "execution_count": null,
      "outputs": []
    },
    {
      "cell_type": "code",
      "source": [
        "!pip install torch~=1.4.0"
      ],
      "metadata": {
        "id": "l4NcX5VQ-70-"
      },
      "execution_count": null,
      "outputs": []
    },
    {
      "cell_type": "code",
      "source": [
        "!pip install transformers~=2.8.0"
      ],
      "metadata": {
        "id": "SI_ZFaMn_wEl",
        "colab": {
          "base_uri": "https://localhost:8080/",
          "height": 1000
        },
        "outputId": "048de2a8-ce59-4fe7-acec-f67c66b22c36"
      },
      "execution_count": null,
      "outputs": [
        {
          "output_type": "stream",
          "name": "stdout",
          "text": [
            "Looking in indexes: https://pypi.org/simple, https://us-python.pkg.dev/colab-wheels/public/simple/\n",
            "Collecting transformers~=2.8.0\n",
            "  Downloading transformers-2.8.0-py3-none-any.whl (563 kB)\n",
            "\u001b[K     |████████████████████████████████| 563 kB 7.1 MB/s \n",
            "\u001b[?25hCollecting tokenizers==0.5.2\n",
            "  Downloading tokenizers-0.5.2-cp38-cp38-manylinux1_x86_64.whl (7.4 MB)\n",
            "\u001b[K     |████████████████████████████████| 7.4 MB 63.4 MB/s \n",
            "\u001b[?25hCollecting sentencepiece\n",
            "  Downloading sentencepiece-0.1.99-cp38-cp38-manylinux_2_17_x86_64.manylinux2014_x86_64.whl (1.3 MB)\n",
            "\u001b[K     |████████████████████████████████| 1.3 MB 54.2 MB/s \n",
            "\u001b[?25hCollecting filelock\n",
            "  Downloading filelock-3.12.2-py3-none-any.whl (10 kB)\n",
            "Collecting numpy\n",
            "  Downloading numpy-1.24.3-cp38-cp38-manylinux_2_17_x86_64.manylinux2014_x86_64.whl (17.3 MB)\n",
            "\u001b[K     |████████████████████████████████| 17.3 MB 44.3 MB/s \n",
            "\u001b[?25hCollecting tqdm>=4.27\n",
            "  Downloading tqdm-4.65.0-py3-none-any.whl (77 kB)\n",
            "\u001b[K     |████████████████████████████████| 77 kB 5.5 MB/s \n",
            "\u001b[?25hCollecting sacremoses\n",
            "  Downloading sacremoses-0.0.53.tar.gz (880 kB)\n",
            "\u001b[K     |████████████████████████████████| 880 kB 77.0 MB/s \n",
            "\u001b[?25hCollecting requests\n",
            "  Downloading requests-2.31.0-py3-none-any.whl (62 kB)\n",
            "\u001b[K     |████████████████████████████████| 62 kB 1.2 MB/s \n",
            "\u001b[?25hCollecting regex!=2019.12.17\n",
            "  Downloading regex-2023.6.3-cp38-cp38-manylinux_2_17_x86_64.manylinux2014_x86_64.whl (772 kB)\n",
            "\u001b[K     |████████████████████████████████| 772 kB 77.2 MB/s \n",
            "\u001b[?25hCollecting boto3\n",
            "  Downloading boto3-1.26.153-py3-none-any.whl (135 kB)\n",
            "\u001b[K     |████████████████████████████████| 135 kB 82.4 MB/s \n",
            "\u001b[?25hCollecting click\n",
            "  Downloading click-8.1.3-py3-none-any.whl (96 kB)\n",
            "\u001b[K     |████████████████████████████████| 96 kB 6.4 MB/s \n",
            "\u001b[?25hCollecting joblib\n",
            "  Downloading joblib-1.2.0-py3-none-any.whl (297 kB)\n",
            "\u001b[K     |████████████████████████████████| 297 kB 79.4 MB/s \n",
            "\u001b[?25hCollecting six\n",
            "  Downloading six-1.16.0-py2.py3-none-any.whl (11 kB)\n",
            "Collecting idna<4,>=2.5\n",
            "  Downloading idna-3.4-py3-none-any.whl (61 kB)\n",
            "\u001b[K     |████████████████████████████████| 61 kB 110 kB/s \n",
            "\u001b[?25hCollecting certifi>=2017.4.17\n",
            "  Downloading certifi-2023.5.7-py3-none-any.whl (156 kB)\n",
            "\u001b[K     |████████████████████████████████| 156 kB 64.3 MB/s \n",
            "\u001b[?25hCollecting charset-normalizer<4,>=2\n",
            "  Downloading charset_normalizer-3.1.0-cp38-cp38-manylinux_2_17_x86_64.manylinux2014_x86_64.whl (195 kB)\n",
            "\u001b[K     |████████████████████████████████| 195 kB 76.3 MB/s \n",
            "\u001b[?25hRequirement already satisfied: urllib3<3,>=1.21.1 in /usr/local/lib/python3.8/dist-packages (from requests->transformers~=2.8.0) (1.25.11)\n",
            "Collecting jmespath<2.0.0,>=0.7.1\n",
            "  Downloading jmespath-1.0.1-py3-none-any.whl (20 kB)\n",
            "Collecting botocore<1.30.0,>=1.29.153\n",
            "  Downloading botocore-1.29.153-py3-none-any.whl (10.9 MB)\n",
            "\u001b[K     |████████████████████████████████| 10.9 MB 59.2 MB/s \n",
            "\u001b[?25hCollecting s3transfer<0.7.0,>=0.6.0\n",
            "  Downloading s3transfer-0.6.1-py3-none-any.whl (79 kB)\n",
            "\u001b[K     |████████████████████████████████| 79 kB 8.9 MB/s \n",
            "\u001b[?25hCollecting python-dateutil<3.0.0,>=2.1\n",
            "  Downloading python_dateutil-2.8.2-py2.py3-none-any.whl (247 kB)\n",
            "\u001b[K     |████████████████████████████████| 247 kB 72.8 MB/s \n",
            "\u001b[?25hBuilding wheels for collected packages: sacremoses\n",
            "  Building wheel for sacremoses (setup.py) ... \u001b[?25l\u001b[?25hdone\n",
            "  Created wheel for sacremoses: filename=sacremoses-0.0.53-py3-none-any.whl size=895255 sha256=fcf9fcddb5dab9fce82f5d38e84ed53fd5fcf094279bf43c07cace5dac747dc1\n",
            "  Stored in directory: /root/.cache/pip/wheels/82/ab/9b/c15899bf659ba74f623ac776e861cf2eb8608c1825ddec66a4\n",
            "Successfully built sacremoses\n",
            "Installing collected packages: tokenizers, sentencepiece, filelock, numpy, tqdm, click, joblib, regex, six, sacremoses, idna, certifi, charset-normalizer, requests, jmespath, python-dateutil, botocore, s3transfer, boto3, transformers\n",
            "Successfully installed boto3-1.26.153 botocore-1.29.153 certifi-2023.5.7 charset-normalizer-3.1.0 click-8.1.3 filelock-3.12.2 idna-3.4 jmespath-1.0.1 joblib-1.2.0 numpy-1.24.3 python-dateutil-2.8.2 regex-2023.6.3 requests-2.31.0 s3transfer-0.6.1 sacremoses-0.0.53 sentencepiece-0.1.99 six-1.16.0 tokenizers-0.5.2 tqdm-4.65.0 transformers-2.8.0\n"
          ]
        },
        {
          "output_type": "display_data",
          "data": {
            "application/vnd.colab-display-data+json": {
              "pip_warning": {
                "packages": [
                  "dateutil",
                  "six"
                ]
              }
            }
          },
          "metadata": {}
        }
      ]
    },
    {
      "cell_type": "code",
      "source": [
        "!pip install pytorch-transformers~=1.2.0"
      ],
      "metadata": {
        "id": "JeoOaDdZ_zRI",
        "colab": {
          "base_uri": "https://localhost:8080/"
        },
        "outputId": "f01829ad-0d2e-427f-e0d8-c53e1b817487"
      },
      "execution_count": null,
      "outputs": [
        {
          "output_type": "stream",
          "name": "stdout",
          "text": [
            "Looking in indexes: https://pypi.org/simple, https://us-python.pkg.dev/colab-wheels/public/simple/\n",
            "Collecting pytorch-transformers~=1.2.0\n",
            "  Downloading pytorch_transformers-1.2.0-py3-none-any.whl (176 kB)\n",
            "\u001b[K     |████████████████████████████████| 176 kB 7.5 MB/s \n",
            "\u001b[?25hRequirement already satisfied: torch>=1.0.0 in /usr/local/lib/python3.8/dist-packages (from pytorch-transformers~=1.2.0) (1.4.0)\n",
            "Requirement already satisfied: boto3 in /usr/local/lib/python3.8/dist-packages (from pytorch-transformers~=1.2.0) (1.26.153)\n",
            "Requirement already satisfied: numpy in /usr/local/lib/python3.8/dist-packages (from pytorch-transformers~=1.2.0) (1.24.3)\n",
            "Requirement already satisfied: sentencepiece in /usr/local/lib/python3.8/dist-packages (from pytorch-transformers~=1.2.0) (0.1.99)\n",
            "Requirement already satisfied: regex in /usr/local/lib/python3.8/dist-packages (from pytorch-transformers~=1.2.0) (2023.6.3)\n",
            "Requirement already satisfied: requests in /usr/local/lib/python3.8/dist-packages (from pytorch-transformers~=1.2.0) (2.31.0)\n",
            "Requirement already satisfied: tqdm in /usr/local/lib/python3.8/dist-packages (from pytorch-transformers~=1.2.0) (4.65.0)\n",
            "Requirement already satisfied: sacremoses in /usr/local/lib/python3.8/dist-packages (from pytorch-transformers~=1.2.0) (0.0.53)\n",
            "Requirement already satisfied: jmespath<2.0.0,>=0.7.1 in /usr/local/lib/python3.8/dist-packages (from boto3->pytorch-transformers~=1.2.0) (1.0.1)\n",
            "Requirement already satisfied: botocore<1.30.0,>=1.29.153 in /usr/local/lib/python3.8/dist-packages (from boto3->pytorch-transformers~=1.2.0) (1.29.153)\n",
            "Requirement already satisfied: s3transfer<0.7.0,>=0.6.0 in /usr/local/lib/python3.8/dist-packages (from boto3->pytorch-transformers~=1.2.0) (0.6.1)\n",
            "Requirement already satisfied: certifi>=2017.4.17 in /usr/local/lib/python3.8/dist-packages (from requests->pytorch-transformers~=1.2.0) (2023.5.7)\n",
            "Requirement already satisfied: charset-normalizer<4,>=2 in /usr/local/lib/python3.8/dist-packages (from requests->pytorch-transformers~=1.2.0) (3.1.0)\n",
            "Requirement already satisfied: urllib3<3,>=1.21.1 in /usr/local/lib/python3.8/dist-packages (from requests->pytorch-transformers~=1.2.0) (1.25.11)\n",
            "Requirement already satisfied: idna<4,>=2.5 in /usr/local/lib/python3.8/dist-packages (from requests->pytorch-transformers~=1.2.0) (3.4)\n",
            "Requirement already satisfied: joblib in /usr/local/lib/python3.8/dist-packages (from sacremoses->pytorch-transformers~=1.2.0) (1.2.0)\n",
            "Requirement already satisfied: click in /usr/local/lib/python3.8/dist-packages (from sacremoses->pytorch-transformers~=1.2.0) (8.1.3)\n",
            "Requirement already satisfied: six in /usr/local/lib/python3.8/dist-packages (from sacremoses->pytorch-transformers~=1.2.0) (1.16.0)\n",
            "Requirement already satisfied: python-dateutil<3.0.0,>=2.1 in /usr/local/lib/python3.8/dist-packages (from botocore<1.30.0,>=1.29.153->boto3->pytorch-transformers~=1.2.0) (2.8.2)\n",
            "Installing collected packages: pytorch-transformers\n",
            "Successfully installed pytorch-transformers-1.2.0\n"
          ]
        }
      ]
    },
    {
      "cell_type": "code",
      "source": [
        "!pip install tqdm jsonlines numpy"
      ],
      "metadata": {
        "colab": {
          "base_uri": "https://localhost:8080/"
        },
        "id": "2RdlTckj_94I",
        "outputId": "f8c45307-4a57-4714-e8e3-ba70bcce2f27"
      },
      "execution_count": null,
      "outputs": [
        {
          "output_type": "stream",
          "name": "stdout",
          "text": [
            "Looking in indexes: https://pypi.org/simple, https://us-python.pkg.dev/colab-wheels/public/simple/\n",
            "Requirement already satisfied: tqdm in /usr/local/lib/python3.8/dist-packages (4.65.0)\n",
            "Collecting jsonlines\n",
            "  Downloading jsonlines-3.1.0-py3-none-any.whl (8.6 kB)\n",
            "Requirement already satisfied: numpy in /usr/local/lib/python3.8/dist-packages (1.24.3)\n",
            "Collecting attrs>=19.2.0\n",
            "  Downloading attrs-23.1.0-py3-none-any.whl (61 kB)\n",
            "\u001b[K     |████████████████████████████████| 61 kB 4.1 MB/s \n",
            "\u001b[?25hInstalling collected packages: attrs, jsonlines\n",
            "Successfully installed attrs-23.1.0 jsonlines-3.1.0\n"
          ]
        }
      ]
    },
    {
      "cell_type": "code",
      "source": [
        "!python /content/unanswerable_qa/baselines/convert_squad_data_to_answer_type_data.py --squad_train_path /content/drive/MyDrive/demo/unanswerable_qa-main/baselines/train/train-v2.0.json --squad_dev_path /content/drive/MyDrive/demo/unanswerable_qa-main/baselines/NQdev/dev-v2.0.json --output_data_dir ./content/drive/MyDrive/demo/sqaud_q_only_two_way --question_only"
      ],
      "metadata": {
        "colab": {
          "base_uri": "https://localhost:8080/"
        },
        "id": "2PnAa3xNAK0i",
        "outputId": "361b9070-896a-40a2-a6cb-f34a2c22cd2d"
      },
      "execution_count": null,
      "outputs": [
        {
          "output_type": "stream",
          "name": "stdout",
          "text": [
            "un-answerable examples # Counter({'Unanswerable': 43498, 'Answerable': 43350})\n",
            "un-answerable examples # Counter({'Unanswerable': 5945, 'Answerable': 5928})\n"
          ]
        }
      ]
    },
    {
      "cell_type": "code",
      "source": [
        "!python /content/unanswerable_qa/baselines/run_q_only_answer_type_classification.py  --data_dir /content/sqaud_q_only_two_way  --model_type /content/tydiqa/baseline/bert  --model_name_or_path bert-base-uncased  --do_lower_case  --task_name answer_type_q_only_two --output_dir output_squad_q_only_two_way  --do_train --do_eval  --per_gpu_train_batch_size 8"
      ],
      "metadata": {
        "id": "EhEsmFVrBxtr"
      },
      "execution_count": null,
      "outputs": []
    },
    {
      "cell_type": "code",
      "source": [
        "!pip install transformers==4.22.0"
      ],
      "metadata": {
        "colab": {
          "base_uri": "https://localhost:8080/"
        },
        "id": "Oi2rwRvPmVm9",
        "outputId": "870d1f5e-ee3b-44f4-eb78-a23c76c3ccaf"
      },
      "execution_count": null,
      "outputs": [
        {
          "output_type": "stream",
          "name": "stdout",
          "text": [
            "Looking in indexes: https://pypi.org/simple, https://us-python.pkg.dev/colab-wheels/public/simple/\n",
            "Collecting transformers==4.22.0\n",
            "  Downloading transformers-4.22.0-py3-none-any.whl (4.9 MB)\n",
            "\u001b[2K     \u001b[90m━━━━━━━━━━━━━━━━━━━━━━━━━━━━━━━━━━━━━━━━\u001b[0m \u001b[32m4.9/4.9 MB\u001b[0m \u001b[31m56.2 MB/s\u001b[0m eta \u001b[36m0:00:00\u001b[0m\n",
            "\u001b[?25hRequirement already satisfied: filelock in /usr/local/lib/python3.10/dist-packages (from transformers==4.22.0) (3.12.0)\n",
            "Collecting huggingface-hub<1.0,>=0.9.0 (from transformers==4.22.0)\n",
            "  Downloading huggingface_hub-0.15.1-py3-none-any.whl (236 kB)\n",
            "\u001b[2K     \u001b[90m━━━━━━━━━━━━━━━━━━━━━━━━━━━━━━━━━━━━━━\u001b[0m \u001b[32m236.8/236.8 kB\u001b[0m \u001b[31m28.4 MB/s\u001b[0m eta \u001b[36m0:00:00\u001b[0m\n",
            "\u001b[?25hRequirement already satisfied: numpy>=1.17 in /usr/local/lib/python3.10/dist-packages (from transformers==4.22.0) (1.22.4)\n",
            "Requirement already satisfied: packaging>=20.0 in /usr/local/lib/python3.10/dist-packages (from transformers==4.22.0) (23.1)\n",
            "Requirement already satisfied: pyyaml>=5.1 in /usr/local/lib/python3.10/dist-packages (from transformers==4.22.0) (6.0)\n",
            "Requirement already satisfied: regex!=2019.12.17 in /usr/local/lib/python3.10/dist-packages (from transformers==4.22.0) (2022.10.31)\n",
            "Requirement already satisfied: requests in /usr/local/lib/python3.10/dist-packages (from transformers==4.22.0) (2.27.1)\n",
            "Collecting tokenizers!=0.11.3,<0.13,>=0.11.1 (from transformers==4.22.0)\n",
            "  Downloading tokenizers-0.12.1-cp310-cp310-manylinux_2_12_x86_64.manylinux2010_x86_64.whl (6.6 MB)\n",
            "\u001b[2K     \u001b[90m━━━━━━━━━━━━━━━━━━━━━━━━━━━━━━━━━━━━━━━━\u001b[0m \u001b[32m6.6/6.6 MB\u001b[0m \u001b[31m117.6 MB/s\u001b[0m eta \u001b[36m0:00:00\u001b[0m\n",
            "\u001b[?25hRequirement already satisfied: tqdm>=4.27 in /usr/local/lib/python3.10/dist-packages (from transformers==4.22.0) (4.65.0)\n",
            "Requirement already satisfied: fsspec in /usr/local/lib/python3.10/dist-packages (from huggingface-hub<1.0,>=0.9.0->transformers==4.22.0) (2023.4.0)\n",
            "Requirement already satisfied: typing-extensions>=3.7.4.3 in /usr/local/lib/python3.10/dist-packages (from huggingface-hub<1.0,>=0.9.0->transformers==4.22.0) (4.5.0)\n",
            "Requirement already satisfied: urllib3<1.27,>=1.21.1 in /usr/local/lib/python3.10/dist-packages (from requests->transformers==4.22.0) (1.26.15)\n",
            "Requirement already satisfied: certifi>=2017.4.17 in /usr/local/lib/python3.10/dist-packages (from requests->transformers==4.22.0) (2022.12.7)\n",
            "Requirement already satisfied: charset-normalizer~=2.0.0 in /usr/local/lib/python3.10/dist-packages (from requests->transformers==4.22.0) (2.0.12)\n",
            "Requirement already satisfied: idna<4,>=2.5 in /usr/local/lib/python3.10/dist-packages (from requests->transformers==4.22.0) (3.4)\n",
            "Installing collected packages: tokenizers, huggingface-hub, transformers\n",
            "Successfully installed huggingface-hub-0.15.1 tokenizers-0.12.1 transformers-4.22.0\n"
          ]
        }
      ]
    },
    {
      "cell_type": "code",
      "source": [
        "from transformers.models.bert.modeling_bert import BertModel,BertForMaskedLM"
      ],
      "metadata": {
        "id": "DPGBKZiAmRcv"
      },
      "execution_count": null,
      "outputs": []
    },
    {
      "cell_type": "code",
      "source": [
        "tokenizer = BertTokenizer.from_pretrained('bert-base-uncased')\n",
        "\n",
        "# Initialize the BertForMaskedLM model from the masked language modeling checkpoint\n",
        "model = BertForMaskedLM.from_pretrained('bert-base-uncased', from_tf=False, config='bert-base-uncased')\n"
      ],
      "metadata": {
        "colab": {
          "base_uri": "https://localhost:8080/"
        },
        "id": "RYBTfhi4qYed",
        "outputId": "38e6a8fc-e6e2-4d0d-b498-e86658b3e624"
      },
      "execution_count": null,
      "outputs": [
        {
          "output_type": "stream",
          "name": "stderr",
          "text": [
            "Some weights of the model checkpoint at bert-base-uncased were not used when initializing BertForMaskedLM: ['cls.seq_relationship.weight', 'cls.seq_relationship.bias']\n",
            "- This IS expected if you are initializing BertForMaskedLM from the checkpoint of a model trained on another task or with another architecture (e.g. initializing a BertForSequenceClassification model from a BertForPreTraining model).\n",
            "- This IS NOT expected if you are initializing BertForMaskedLM from the checkpoint of a model that you expect to be exactly identical (initializing a BertForSequenceClassification model from a BertForSequenceClassification model).\n"
          ]
        }
      ]
    },
    {
      "cell_type": "code",
      "source": [],
      "metadata": {
        "colab": {
          "base_uri": "https://localhost:8080/"
        },
        "id": "KwwpPWzpoWEn",
        "outputId": "01639130-7bd2-4eeb-81b7-0bcadcfc0d91"
      },
      "execution_count": null,
      "outputs": [
        {
          "output_type": "stream",
          "name": "stdout",
          "text": [
            "\u001b[0m\u001b[01;34mdrive\u001b[0m/  \u001b[01;34msample_data\u001b[0m/  \u001b[01;34munanswerable_qa\u001b[0m/\n"
          ]
        }
      ]
    },
    {
      "cell_type": "code",
      "source": [
        "!python /content/unanswerable_qa/baselines/run_q_only_answer_type_classification.py \\\n",
        "  --data_dir /content/sqaud_q_only_two_wa \\\n",
        "  --model_type /content/tydiqa/baseline/bert \\\n",
        "  --model_name_or_path /content/tydiqa/baseline/tydi_modeling.py \\\n",
        "  --do_lower_case \\\n",
        "  --task_name answer_type_q_only_two \\\n",
        "  --output_dir output_squad_q_only_two_way \\\n",
        "  --do_train \\\n",
        "  --do_eval \\\n",
        "  --per_gpu_train_batch_size 8"
      ],
      "metadata": {
        "id": "NJIxxUKxERXa"
      },
      "execution_count": null,
      "outputs": []
    },
    {
      "cell_type": "code",
      "source": [
        "!pip install bert-tensorflow"
      ],
      "metadata": {
        "colab": {
          "base_uri": "https://localhost:8080/"
        },
        "id": "wkaEWrK8hQ2b",
        "outputId": "bfdf6a4e-6f46-4e2b-942b-ac88fb186d9f"
      },
      "execution_count": null,
      "outputs": [
        {
          "output_type": "stream",
          "name": "stdout",
          "text": [
            "Looking in indexes: https://pypi.org/simple, https://us-python.pkg.dev/colab-wheels/public/simple/\n",
            "Collecting bert-tensorflow\n",
            "  Downloading bert_tensorflow-1.0.4-py2.py3-none-any.whl (64 kB)\n",
            "\u001b[K     |████████████████████████████████| 64 kB 2.0 MB/s \n",
            "\u001b[?25hRequirement already satisfied: six in /usr/local/lib/python3.8/dist-packages (from bert-tensorflow) (1.16.0)\n",
            "Installing collected packages: bert-tensorflow\n",
            "Successfully installed bert-tensorflow-1.0.4\n"
          ]
        }
      ]
    },
    {
      "cell_type": "code",
      "source": [
        "!pip install transformers"
      ],
      "metadata": {
        "colab": {
          "base_uri": "https://localhost:8080/"
        },
        "id": "7cIoSZAphpoz",
        "outputId": "bd9b422c-9236-428b-a729-9bc4b511ee0e"
      },
      "execution_count": null,
      "outputs": [
        {
          "output_type": "stream",
          "name": "stdout",
          "text": [
            "Looking in indexes: https://pypi.org/simple, https://us-python.pkg.dev/colab-wheels/public/simple/\n",
            "Requirement already satisfied: transformers in /usr/local/lib/python3.8/dist-packages (2.8.0)\n",
            "Requirement already satisfied: tokenizers==0.5.2 in /usr/local/lib/python3.8/dist-packages (from transformers) (0.5.2)\n",
            "Requirement already satisfied: filelock in /usr/local/lib/python3.8/dist-packages (from transformers) (3.12.2)\n",
            "Requirement already satisfied: tqdm>=4.27 in /usr/local/lib/python3.8/dist-packages (from transformers) (4.65.0)\n",
            "Requirement already satisfied: sentencepiece in /usr/local/lib/python3.8/dist-packages (from transformers) (0.1.99)\n",
            "Requirement already satisfied: boto3 in /usr/local/lib/python3.8/dist-packages (from transformers) (1.26.152)\n",
            "Requirement already satisfied: requests in /usr/local/lib/python3.8/dist-packages (from transformers) (2.31.0)\n",
            "Requirement already satisfied: sacremoses in /usr/local/lib/python3.8/dist-packages (from transformers) (0.0.53)\n",
            "Requirement already satisfied: regex!=2019.12.17 in /usr/local/lib/python3.8/dist-packages (from transformers) (2023.6.3)\n",
            "Requirement already satisfied: numpy in /usr/local/lib/python3.8/dist-packages (from transformers) (1.24.3)\n",
            "Requirement already satisfied: jmespath<2.0.0,>=0.7.1 in /usr/local/lib/python3.8/dist-packages (from boto3->transformers) (1.0.1)\n",
            "Requirement already satisfied: s3transfer<0.7.0,>=0.6.0 in /usr/local/lib/python3.8/dist-packages (from boto3->transformers) (0.6.1)\n",
            "Requirement already satisfied: botocore<1.30.0,>=1.29.152 in /usr/local/lib/python3.8/dist-packages (from boto3->transformers) (1.29.152)\n",
            "Requirement already satisfied: charset-normalizer<4,>=2 in /usr/local/lib/python3.8/dist-packages (from requests->transformers) (3.1.0)\n",
            "Requirement already satisfied: urllib3<3,>=1.21.1 in /usr/local/lib/python3.8/dist-packages (from requests->transformers) (2.0.3)\n",
            "Requirement already satisfied: certifi>=2017.4.17 in /usr/local/lib/python3.8/dist-packages (from requests->transformers) (2023.5.7)\n",
            "Requirement already satisfied: idna<4,>=2.5 in /usr/local/lib/python3.8/dist-packages (from requests->transformers) (3.4)\n",
            "Requirement already satisfied: six in /usr/local/lib/python3.8/dist-packages (from sacremoses->transformers) (1.16.0)\n",
            "Requirement already satisfied: click in /usr/local/lib/python3.8/dist-packages (from sacremoses->transformers) (8.1.3)\n",
            "Requirement already satisfied: joblib in /usr/local/lib/python3.8/dist-packages (from sacremoses->transformers) (1.2.0)\n",
            "Requirement already satisfied: python-dateutil<3.0.0,>=2.1 in /usr/local/lib/python3.8/dist-packages (from botocore<1.30.0,>=1.29.152->boto3->transformers) (2.8.2)\n"
          ]
        }
      ]
    },
    {
      "cell_type": "code",
      "source": [
        "from transformers import BertTokenizer, BertModel\n"
      ],
      "metadata": {
        "id": "Lo7p2rkWx8LU"
      },
      "execution_count": null,
      "outputs": []
    },
    {
      "cell_type": "code",
      "source": [
        "model_name = 'bert-base-uncased'\n",
        "tokenizer = BertTokenizer.from_pretrained(model_name)\n",
        "model = BertModel.from_pretrained(model_name)\n"
      ],
      "metadata": {
        "colab": {
          "base_uri": "https://localhost:8080/"
        },
        "id": "nfky-kqzx-kq",
        "outputId": "c8843537-7881-471b-d37c-63dd53d7e1f2"
      },
      "execution_count": null,
      "outputs": [
        {
          "output_type": "stream",
          "name": "stderr",
          "text": [
            "Some weights of the model checkpoint at bert-base-uncased were not used when initializing BertModel: ['cls.seq_relationship.bias', 'cls.predictions.transform.dense.weight', 'cls.predictions.transform.dense.bias', 'cls.predictions.transform.LayerNorm.weight', 'cls.predictions.decoder.weight', 'cls.predictions.transform.LayerNorm.bias', 'cls.predictions.bias', 'cls.seq_relationship.weight']\n",
            "- This IS expected if you are initializing BertModel from the checkpoint of a model trained on another task or with another architecture (e.g. initializing a BertForSequenceClassification model from a BertForPreTraining model).\n",
            "- This IS NOT expected if you are initializing BertModel from the checkpoint of a model that you expect to be exactly identical (initializing a BertForSequenceClassification model from a BertForSequenceClassification model).\n"
          ]
        }
      ]
    },
    {
      "cell_type": "code",
      "source": [
        "import json\n",
        "\n",
        "# Read output json file from WebAnno (Annotation tool)\n",
        "with open('input_json.json') as data_file:\n",
        "    data = json.load(data_file)\n",
        "\n",
        "# Extract original sentences\n",
        "sentences_list = data['_referenced_fss']['12']['sofaString'].split('\\n')\n",
        "\n",
        "# Extract entity start/end positions and names\n",
        "ent_loc = data['_views']['_InitialView']['NamedEntity']\n",
        "\n",
        "# Extract sentence start/end positions\n",
        "Sentence = data['_views']['_InitialView']['Sentence']\n",
        "Sentence[0]['begin'] = 0  # Set first sentence starting position to 0\n",
        "\n",
        "# Prepare spacy formatted training data\n",
        "TRAIN_DATA = []\n",
        "ent_list = []\n",
        "\n",
        "for sl in range(len(Sentence)):\n",
        "    ent_list_sen = []\n",
        "    for el in range(len(ent_loc)):\n",
        "        if (\n",
        "            ent_loc[el]['begin'] >= Sentence[sl]['begin']\n",
        "            and ent_loc[el]['end'] <= Sentence[sl]['end']\n",
        "        ):\n",
        "            # Need to subtract entity location with sentence beginning as WebAnno generates data by treating the document as a whole\n",
        "            ent_list_sen.append([\n",
        "                (ent_loc[el]['begin'] - Sentence[sl]['begin']),\n",
        "                (ent_loc[el]['end'] - Sentence[sl]['begin']),\n",
        "                ent_loc[el]['value']\n",
        "            ])\n",
        "    ent_list.append(ent_list_sen)\n",
        "\n",
        "    # Create blank dictionary\n",
        "    ent_dic = {}\n",
        "    # Fill value in the dictionary\n",
        "    ent_dic['entities'] = ent_list[-1]\n",
        "    # Prepare final training data\n",
        "    TRAIN_DATA.append([sentences_list[sl], ent_dic])\n",
        "\n",
        "# Write the training data to a file\n",
        "with open('train.txt', 'w') as file:\n",
        "    for data in TRAIN_DATA:\n",
        "        file.write(data[0] + '\\t' + str(data[1]) + '\\n')"
      ],
      "metadata": {
        "id": "VFLmcc-hgAMz"
      },
      "execution_count": null,
      "outputs": []
    },
    {
      "cell_type": "code",
      "source": [
        "import pandas as pd\n",
        "import json\n",
        "import os\n",
        "os.chdir(r'/content/')\n",
        "\n",
        "with open('./annotations.json', 'r') as f:\n",
        "    data = json.load(f)"
      ],
      "metadata": {
        "id": "fSboE_zxqtHv"
      },
      "execution_count": 17,
      "outputs": []
    },
    {
      "cell_type": "code",
      "source": [
        "from google.colab import drive\n",
        "drive.mount('/content/drive')"
      ],
      "metadata": {
        "colab": {
          "base_uri": "https://localhost:8080/"
        },
        "id": "U4_hWmBM2Hc8",
        "outputId": "3eb62410-8742-4c31-88b5-78c4d594a630"
      },
      "execution_count": 2,
      "outputs": [
        {
          "output_type": "stream",
          "name": "stdout",
          "text": [
            "Mounted at /content/drive\n"
          ]
        }
      ]
    },
    {
      "cell_type": "code",
      "source": [
        "data"
      ],
      "metadata": {
        "colab": {
          "base_uri": "https://localhost:8080/"
        },
        "id": "KvA-sWi8q8Nr",
        "outputId": "9569edb3-e626-4f81-e9fd-2ff73461387d"
      },
      "execution_count": 18,
      "outputs": [
        {
          "output_type": "execute_result",
          "data": {
            "text/plain": [
              "{'classes': ['LOCATION', 'FOOD'],\n",
              " 'annotations': [['Grilled pork vermicelli - Bún thịt nướng is a dish that originated in Southern Vietnam, and later became popular in many places across the country [1] . Each place can have its own unique flavor depending on the taste of each place. This noodle dish can be used as a breakfast , main meal or snack [2] . The requirements of the grilled pork vermicelli dish - bún thịt nướng - bun thit nuong is that the meat is grilled evenly until golden brown, has a rich flavor and the aroma of lemongrass and sesame; sweet and sour fish sauce to taste; and a variety of accompanying vegetables\\r\\n\\r\\nNecessary ingredients for grilled meat vermicelli / bun thit nuong : 400g lean minced meat , 800g fresh vermicelli (thin strands), 100g green onions, 100g roasted peanuts, 200g carrots, sour radish, 3 tablespoons minced lemongrass, 4 teaspoons honey honey, 3 tablespoons white sesame, fish sauce , vinegar , lemon , garlic, chili, lettuce , herbs, bean sprouts, cucumber, salt, pepper, sugar, seasoning powder, cooking oil , bamboo meat skewers.\\r\\n\\r\\nMaking bun thang is a sophisticated process, from preparation to cooking. It is estimated that up to 20 ingredients are needed to make Bun thang.\\r\\nIt would be extremely remiss to write about Hanoi bun thang without mentioning its most special part: Ca cuong essential oil .\\r\\n\\r\\nCao lau - Cao lâu is a noodle dish in Quang Nam , Vietnam. This is considered a specialty dish of Hoi An city . This noodle dish has yellow noodles and is served with shrimp , pork , raw vegetables and very little broth. The yellow noodles come from flour mixed with ash from a local tree.According to historical records, Cao Lau appeared in the 17th century. During this time, Chinese and Japanese traders often visited Hoi An port. They brought with them their own culinary culture, then gradually created the conditions for Cao Lau to be born - which can be considered a blend of Chinese and Japanese cuisine.\\r\\n\\r\\nNot only that, Cao Lau - Cao Lâu dishes have also been modified over time to suit Vietnamese people\\'s taste better, and then become a specialty dish of the people of the Central region.\\r\\n\\r\\nThe name \"cao lau\" means delicious food and is enjoyed on the upper floor. In other words, diners can both eat food and see the entire beautiful scene of Hoi An\\'s streets right from the high floor.\\r\\n\\r\\nHu Tieu / Hủ Tiếu(derived from Chaozhou language \"粿條\" guê 2 diou 5 , [1] Sino-Vietnamese sound : fruit cashew ), also written as hu tieu / hủ tiếu (in the Southern Vietnamese dialect, Tieu is homophonous with tiu ), It is a dish using fibrous rice preparations of the Chaozhou and Minnan people , with many similarities with the Cantonese saha chalk and the Hakka people \\'s cashew version , which has been introduced to many regions at home and abroad. China, becoming a common dish in the South China region and Southeast Asia such as in the South of Vietnam , Cambodia , Laos , Thailand , Singapore , etc.\\r\\n\\r\\nHu Tieu developed very strongly in the South of Vietnam since the 50s, especially in Saigon , it is easy to find noodle shops on the street or push noodle carts at the beginning of the alley. [2] It can be said that Hu Tieu is a typical dish here, similar to Pho in Hanoi or beef vermicelli in Hue . Hu Tieu is usually a breakfast or dinner dish, Southerners rarely have noodles for lunch.\\r\\n\\r\\nMi Quang / Mì Quảng is a typical specialty dish of Quang Nam and Da Nang , Vietnam .\\r\\n\\r\\nQuang noodle is usually made from finely ground rice flour with water from gardenia seeds and eggs until it turns yellow and coated in thin layers, then sliced \\u200b\\u200bhorizontally to have thin noodles about 5-10mm.\\r\\n\\r\\nUnder the noodles are raw vegetables, Quang noodles / mi Quang / mì Quảng must be served with 9 flavors of raw vegetables to create a passionate flavor: basil, fresh lettuce, young cabbage buds, white bean sprouts can be cooked or left to dry. raw, coriander, laksa leaves with chopped spring onions and thinly sliced \\u200b\\u200bbanana flowers.\\r\\n\\r\\nOn the noodles are pork , shrimp , chicken , snakehead fish meat (sometimes boiled eggs) along with broth that is stewed from pork bones. People also add dry roasted peanuts and pound them, finely chopped green onions, herbs, red peppers... Usually the broth is called water but this is also a kind of broth but very concentrated and less watery.\\r\\n\\r\\nIn addition, the noodles are also served with sesame rice paper, plus crispy roasted peanuts to create a unique flavor.\\r\\n\\r\\nStir-fried noodles / fried noodles / Mì xào / mì xào / mi xao is the general name for dishes made from the main ingredient noodles using the stir-frying method . This is one of the popular dishes in street food in Asia.The origin of fried noodles mi xao is said to originate from China. The oldest known noodle dish was first found in the archaeological sites of Chinaat, Lajia (喇家), of the Qi culture (齐家) in Qinghai, Shandong province.\\r\\n\\r\\nEel vermicelli / Miến lươn / Mien luon is a popular dish in Vietnam , famous in some Hanoi restaurants [1] such as eel vermicelli on Hang Dieu street, Tue Tinh street, Han Thuyen street, etc. Eel vermicelli is also served in some places such as Ninh Binh [ 2] and Nghe An [3] are considered typical local culinary specialties. Eel vermicelli mien luon is cooked from vermicelli with eel meat , and in reality there are usually two forms: dried eel vermicelli is prepared by adding fat to a hot pan and then adding shallots and frying until fragrant. Stir-fry the eel meat and then stir-fry the wood ear mushrooms together. Stir-fry the vermicelli or blanch it until soft for a few minutes, then take it out, mix it with the stir-fried eel and place it on a plate with Vietnamese coriander and finely chopped onions , and serve with steamed chili.\\r\\n\\r\\nPho , Phở is a traditional dish of Vietnam and is considered one of the typical dishes for Vietnamese cuisine .\\r\\n\\r\\nThe main ingredients of pho are rice noodles and broth along with thinly sliced \\u200b\\u200bbeef or chicken . The most suitable beef for cooking pho phở is meat and bones from domestic cattle breeds (domestic cattle, yellow cattle). Also included are spices such as: soy sauce, pepper , lemon , fish sauce , chili, etc. These spices are added depending on the user\\'s taste . Pho is usually used as a breakfast dish in the morning or as a snack at night; but in big cities, this dish can be enjoyed all day long. In the southern provinces of Vietnam and some other regions, pho is served with a plate of herbs such as onions ,bean sprouts and coriander and basil leaves , of which coriander is the typical leaf of pho; However, in Hanoi, this plate of raw vegetables is usually not available. Pho is usually beef or chicken pho, but sometimes there are other variations, especially pho with wine sauce, dry pho, stir-fried pho, sour pho, duck pho in Cao Bang, and roasted meat pho in mountainous provinces. North.\\r\\n\\r\\nThe broth for a pot of pho is usually a clear broth simmered from beef bones (or pork bones), accompanied by many spices including cinnamon , anise , grilled ginger , cardamom , wormwood, cloves , coriander seeds , and dried onions. grill. The meat used for pho is beef ( with all kinds of meat, braised, undercooked, or fully cooked) or chicken ( boiled old chicken, shredded for sweet and rich meat). \"Pho cake\" is traditionally made from rice flour, coated into thin sheets and then cut into fibers. Pho is always enjoyed while still hot. Accordingly, to have a delicious and flavorful bowl of pho, this depends a lot on the skill of the cook, the most important of which is the pot of broth.\\r\\n\\r\\nBush rice / cơm bụi / com bui or restaurant rice /  cơm tiệm , restaurant rice / cơm quán , popular rice / cơm bình dân , cheap rice / cơm giá rẻ is a unique term and is commonly used in Vietnam [1] used to describe mass meals in which the main dish is from Rice is served at popular restaurants and eateries on the street [2] and is cheaper than other restaurants , eateries , and canteens . Rice bush has been around for a long time and is a cultural feature of ordinary Vietnamese people. [3]Rice restaurants in Hanoi are often called by the owner\\'s name or unusual characteristics. Popular rice is a Southern style name. Rice dust has become the name for popular rice restaurants since the 1990s. [4]\\r\\n\\r\\n\\r\\nSticky rice / cơm nếp , in Vietnamese cuisine , is a type of rice cooked with sticky rice , but differs from sticky rice mainly in the method of cooking directly in water instead of steaming.Sticky rice can be cooked in the form of plain white rice from all kinds of sticky rice (yellow flower sticky rice, brown sticky rice, rustling sticky rice, three moon sticky rice, upland sticky rice, black sticky rice, also known as charcoal sticky rice, uncooked brown sticky rice). bran, etc.), water, a little salt, although it is also common to see sticky rice cooked with a number of other ingredients in a combination similar to making sticky rice (such as peanuts, sticky corn, black beans , green beans ) . More specifically than sticky rice , many types of sticky rice are cooked in chicken broth (also known as broth), bone broth, meat broth, coconut milk , coconut water , broth, etc.\\r\\n\\r\\n\\r\\nFried rice / cơm rang or fried rice / cơm chiên is a cooked rice dish that has been prepared in a wok or frying pan and is often mixed with other ingredients such as eggs, vegetables, seafood or meat. It is often eaten alone or as an accompaniment to another dish. Fried rice is a popular ingredient of East Asian , Southeast Asian , and some South Asian dishes . Fried rice is often made with leftover ingredients from other dishes, leading to many variations. Fried rice was first developed during the Sui Dynasty in China and as such all fried rice dishes can trace their origins to Chinese fried rice.\\r\\n\\r\\nRice cơm is a food made from rice by cooking it with just enough water to cook it.\\r\\n\\r\\nRice / cơm(white), usually made from plain rice / glutinous rice and without added spices , is the almost daily staple food of Southeast Asians and East Asians . Rice (white) is also an ingredient for various processed dishes. To change the taste, after cooking, rice can be fried with chopped dishes such as sausage , fried eggs , vegetables , seafood ... and add spices such as salt , fish sauce , ... make fried rice . There are also other variations from (white) rice such as: mixed rice ,mixed rice , rice wrapped in lotus leaves , lam rice , sticky rice .\\r\\n\\r\\nSticky rice wine / rượu nếp cái , also called rice wine in some places , is a non-distilled alcoholic beverage/food made from sticky rice by using parboiled sticky rice to make sticky rice, cooled and fermented with wine yeast . ferment into wine.\\r\\n\\r\\nRice balls , Onigiri , Cơm nắm Com nam are a Northern Vietnamese rice dish, made from cooked rice and shaped into rolls. This dish is often used when people travel to unfamiliar areas without restaurants or available cooking ingredients.\\r\\n\\r\\nBroken rice / Cơm tấm / Com tam, or Saigon broken rice [1] [2] [3] is a Vietnamese dish whose main ingredients are broken rice . [4] Although there are many names in different regions, the ingredients and processing methods are almost the same. Initially, broken rice com tam was a popular dish among farmers and workers in the Mekong Delta . [6] [7] In years when crops are poor, many people often do not have enough good rice to sell, so they use broken rice com Tam [8] to cook because it is always available in their homes. Many households also have the effect of making you feel full for a long time\\r\\n\\r\\nScorched rice Cơm cháy is a thin layer of slightly brown rice at the bottom of the cooking pot. It is produced during the process of cooking rice over direct heat from an open flame and when served, the rice is often scorched and crispy.\\r\\n\\r\\nNinh Binh Burnt rice scorched rice cơm cháy is one of the famous culinary specialties of Ninh Binh [1] . At 3:00 p.m., August 1, 2012, in Faridabad, India - the Asian Records Organization officially recognized Ninh Binh scorched rice as an Asian record delicacy in the list of 10 famous specialties of the country. Vietnam. [2] Previously, the scorched rice dish was selected by the Vietnam Record Organization Vietkings as one of the 15 delicious dishes to receive Asian records. [3] [4] This type of cuisine thrives on the side of National Highway 1 , Ninh Binh city , Tam Diep city and tourist areas in Ninh Binh. Ninh Binh scorched rice is produced, packaged and sold on the market by many businesses. In Ninh Binh, there are currently about 15 companies, businesses and 10 establishments and households registered to produce and process elderberry products, each year supplying to the market about 500 tons of products. [5]\\r\\n\\r\\n\\r\\nChicken rice / Cơm gà / com ga is a dish prepared and presented in the form of rice and chicken . Rice can be used as white rice or fried rice , fried rice and chicken is usually presented as chicken thighs or chicken wings . Chicken rice / cơm gà - com ga  is relatively easy to make and popular. But depending on the country and local customs, there are different ways to do it.\\r\\n\\r\\nMussel rice - Cơm hến - Com hen is a Hue culinary specialty [1] [2] . Mussel rice - cơm hến - com hen is presented in the form of cold rice mixed with mussels stir- fried with oil and spices , mussel juice, shrimp paste , mint, banana peel, pennywort, herbs, bean sprouts, pork rinds or crispy fried skin balls. , crispy fried noodles, colored chili , whole peanuts, steamed chili, pepper, MSG and salt . Modified dishes such as mussel vermicelli and mussel noodles are not Hue specialties.\\r\\n\\r\\n\\r\\nLam rice - Cơm Lam - cơm Lam - Cơm lam is a type of rice made from rice (usually sticky rice ) and some other ingredients, put into bamboo tubes, bamboo tubes, etc. and grilled over fire. Typical rice of the ethnic groups in Northwest Vietnam and the Northeast regions of Vietnam , the Central Highlands and some ethnic groups in Laos , Thailand , Cambodia , Myanmar and China .',\n",
              "   {'entities': [[0, 23, 'FOOD'],\n",
              "     [26, 40, 'FOOD'],\n",
              "     [328, 356, 'FOOD'],\n",
              "     [359, 373, 'FOOD'],\n",
              "     [376, 390, 'FOOD'],\n",
              "     [610, 633, 'FOOD'],\n",
              "     [636, 650, 'FOOD'],\n",
              "     [1310, 1317, 'FOOD'],\n",
              "     [1320, 1327, 'FOOD'],\n",
              "     [1348, 1357, 'LOCATION'],\n",
              "     [1632, 1639, 'FOOD'],\n",
              "     [1837, 1844, 'FOOD'],\n",
              "     [1941, 1948, 'FOOD'],\n",
              "     [1951, 1958, 'FOOD'],\n",
              "     [2125, 2132, 'FOOD'],\n",
              "     [2316, 2323, 'FOOD'],\n",
              "     [2326, 2333, 'FOOD'],\n",
              "     [2445, 2452, 'FOOD'],\n",
              "     [2455, 2462, 'FOOD'],\n",
              "     [2927, 2934, 'FOOD'],\n",
              "     [3186, 3189, 'FOOD'],\n",
              "     [3320, 3328, 'FOOD'],\n",
              "     [3331, 3339, 'FOOD'],\n",
              "     [3371, 3380, 'LOCATION'],\n",
              "     [3385, 3392, 'LOCATION'],\n",
              "     [3395, 3402, 'LOCATION'],\n",
              "     [3408, 3420, 'FOOD'],\n",
              "     [3659, 3672, 'FOOD'],\n",
              "     [3675, 3683, 'FOOD'],\n",
              "     [3686, 3694, 'FOOD'],\n",
              "     [4433, 4451, 'FOOD'],\n",
              "     [4454, 4467, 'FOOD'],\n",
              "     [4470, 4476, 'FOOD'],\n",
              "     [4479, 4485, 'FOOD'],\n",
              "     [4488, 4494, 'FOOD'],\n",
              "     [4656, 4679, 'FOOD'],\n",
              "     [4680, 4686, 'FOOD'],\n",
              "     [4874, 4888, 'FOOD'],\n",
              "     [4891, 4900, 'FOOD'],\n",
              "     [4903, 4912, 'FOOD'],\n",
              "     [5007, 5016, 'LOCATION'],\n",
              "     [5025, 5033, 'LOCATION'],\n",
              "     [5042, 5052, 'LOCATION'],\n",
              "     [5119, 5128, 'LOCATION'],\n",
              "     [5138, 5145, 'LOCATION'],\n",
              "     [5216, 5225, 'FOOD'],\n",
              "     [5724, 5727, 'FOOD'],\n",
              "     [5730, 5733, 'FOOD'],\n",
              "     [6204, 6207, 'FOOD'],\n",
              "     [6402, 6405, 'FOOD'],\n",
              "     [6542, 6545, 'FOOD'],\n",
              "     [6621, 6624, 'FOOD'],\n",
              "     [6731, 6738, 'FOOD'],\n",
              "     [6740, 6754, 'FOOD'],\n",
              "     [6756, 6764, 'FOOD'],\n",
              "     [6766, 6774, 'FOOD'],\n",
              "     [6778, 6786, 'LOCATION'],\n",
              "     [6868, 6871, 'FOOD'],\n",
              "     [7248, 7258, 'FOOD'],\n",
              "     [7348, 7351, 'FOOD'],\n",
              "     [7544, 7553, 'FOOD'],\n",
              "     [7556, 7563, 'FOOD'],\n",
              "     [7566, 7573, 'FOOD'],\n",
              "     [7577, 7592, 'FOOD'],\n",
              "     [7596, 7604, 'FOOD'],\n",
              "     [7625, 7633, 'FOOD'],\n",
              "     [7636, 7648, 'FOOD'],\n",
              "     [7651, 7663, 'FOOD'],\n",
              "     [7666, 7676, 'FOOD'],\n",
              "     [7679, 7689, 'FOOD'],\n",
              "     [8254, 8265, 'FOOD'],\n",
              "     [8268, 8275, 'FOOD'],\n",
              "     [8521, 8532, 'FOOD'],\n",
              "     [8984, 8995, 'FOOD'],\n",
              "     [9147, 9157, 'FOOD'],\n",
              "     [9160, 9168, 'FOOD'],\n",
              "     [9172, 9182, 'FOOD'],\n",
              "     [9185, 9194, 'FOOD'],\n",
              "     [9511, 9521, 'FOOD'],\n",
              "     [9842, 9846, 'FOOD'],\n",
              "     [9849, 9852, 'FOOD'],\n",
              "     [10899, 10910, 'FOOD'],\n",
              "     [10913, 10920, 'FOOD'],\n",
              "     [10923, 10930, 'FOOD'],\n",
              "     [10935, 10953, 'FOOD'],\n",
              "     [11507, 11520, 'FOOD'],\n",
              "     [11521, 11529, 'FOOD'],\n",
              "     [12281, 12297, 'LOCATION'],\n",
              "     [12302, 12316, 'LOCATION'],\n",
              "     [12319, 12332, 'LOCATION'],\n",
              "     [12354, 12364, 'LOCATION'],\n",
              "     [12365, 12374, 'LOCATION'],\n",
              "     [12457, 12466, 'LOCATION'],\n",
              "     [12682, 12694, 'FOOD'],\n",
              "     [12697, 12703, 'FOOD'],\n",
              "     [12706, 12712, 'FOOD'],\n",
              "     [12908, 12920, 'FOOD'],\n",
              "     [12923, 12929, 'FOOD'],\n",
              "     [12932, 12938, 'FOOD'],\n",
              "     [13066, 13077, 'FOOD'],\n",
              "     [13080, 13087, 'FOOD'],\n",
              "     [13090, 13097, 'FOOD'],\n",
              "     [13103, 13106, 'LOCATION'],\n",
              "     [13136, 13147, 'FOOD'],\n",
              "     [13150, 13157, 'FOOD'],\n",
              "     [13160, 13167, 'FOOD'],\n",
              "     [13573, 13580, 'FOOD'],\n",
              "     [13583, 13590, 'FOOD'],\n",
              "     [13593, 13600, 'FOOD']]}]]}"
            ]
          },
          "metadata": {},
          "execution_count": 18
        }
      ]
    },
    {
      "cell_type": "code",
      "source": [
        "entity_name = \"FOOD, LOCATION\"\n",
        "\n",
        "train_data = data['annotations']\n",
        "train_data = [tuple(i) for i in train_data]"
      ],
      "metadata": {
        "id": "vUtoN6J4q_P6"
      },
      "execution_count": 19,
      "outputs": []
    },
    {
      "cell_type": "code",
      "source": [
        "train_data\n"
      ],
      "metadata": {
        "colab": {
          "base_uri": "https://localhost:8080/"
        },
        "id": "f6O3qgGgrJBy",
        "outputId": "7fa412d6-d13e-4f97-c168-4b24585447ec"
      },
      "execution_count": 20,
      "outputs": [
        {
          "output_type": "execute_result",
          "data": {
            "text/plain": [
              "[('Grilled pork vermicelli - Bún thịt nướng is a dish that originated in Southern Vietnam, and later became popular in many places across the country [1] . Each place can have its own unique flavor depending on the taste of each place. This noodle dish can be used as a breakfast , main meal or snack [2] . The requirements of the grilled pork vermicelli dish - bún thịt nướng - bun thit nuong is that the meat is grilled evenly until golden brown, has a rich flavor and the aroma of lemongrass and sesame; sweet and sour fish sauce to taste; and a variety of accompanying vegetables\\r\\n\\r\\nNecessary ingredients for grilled meat vermicelli / bun thit nuong : 400g lean minced meat , 800g fresh vermicelli (thin strands), 100g green onions, 100g roasted peanuts, 200g carrots, sour radish, 3 tablespoons minced lemongrass, 4 teaspoons honey honey, 3 tablespoons white sesame, fish sauce , vinegar , lemon , garlic, chili, lettuce , herbs, bean sprouts, cucumber, salt, pepper, sugar, seasoning powder, cooking oil , bamboo meat skewers.\\r\\n\\r\\nMaking bun thang is a sophisticated process, from preparation to cooking. It is estimated that up to 20 ingredients are needed to make Bun thang.\\r\\nIt would be extremely remiss to write about Hanoi bun thang without mentioning its most special part: Ca cuong essential oil .\\r\\n\\r\\nCao lau - Cao lâu is a noodle dish in Quang Nam , Vietnam. This is considered a specialty dish of Hoi An city . This noodle dish has yellow noodles and is served with shrimp , pork , raw vegetables and very little broth. The yellow noodles come from flour mixed with ash from a local tree.According to historical records, Cao Lau appeared in the 17th century. During this time, Chinese and Japanese traders often visited Hoi An port. They brought with them their own culinary culture, then gradually created the conditions for Cao Lau to be born - which can be considered a blend of Chinese and Japanese cuisine.\\r\\n\\r\\nNot only that, Cao Lau - Cao Lâu dishes have also been modified over time to suit Vietnamese people\\'s taste better, and then become a specialty dish of the people of the Central region.\\r\\n\\r\\nThe name \"cao lau\" means delicious food and is enjoyed on the upper floor. In other words, diners can both eat food and see the entire beautiful scene of Hoi An\\'s streets right from the high floor.\\r\\n\\r\\nHu Tieu / Hủ Tiếu(derived from Chaozhou language \"粿條\" guê 2 diou 5 , [1] Sino-Vietnamese sound : fruit cashew ), also written as hu tieu / hủ tiếu (in the Southern Vietnamese dialect, Tieu is homophonous with tiu ), It is a dish using fibrous rice preparations of the Chaozhou and Minnan people , with many similarities with the Cantonese saha chalk and the Hakka people \\'s cashew version , which has been introduced to many regions at home and abroad. China, becoming a common dish in the South China region and Southeast Asia such as in the South of Vietnam , Cambodia , Laos , Thailand , Singapore , etc.\\r\\n\\r\\nHu Tieu developed very strongly in the South of Vietnam since the 50s, especially in Saigon , it is easy to find noodle shops on the street or push noodle carts at the beginning of the alley. [2] It can be said that Hu Tieu is a typical dish here, similar to Pho in Hanoi or beef vermicelli in Hue . Hu Tieu is usually a breakfast or dinner dish, Southerners rarely have noodles for lunch.\\r\\n\\r\\nMi Quang / Mì Quảng is a typical specialty dish of Quang Nam and Da Nang , Vietnam .\\r\\n\\r\\nQuang noodle is usually made from finely ground rice flour with water from gardenia seeds and eggs until it turns yellow and coated in thin layers, then sliced \\u200b\\u200bhorizontally to have thin noodles about 5-10mm.\\r\\n\\r\\nUnder the noodles are raw vegetables, Quang noodles / mi Quang / mì Quảng must be served with 9 flavors of raw vegetables to create a passionate flavor: basil, fresh lettuce, young cabbage buds, white bean sprouts can be cooked or left to dry. raw, coriander, laksa leaves with chopped spring onions and thinly sliced \\u200b\\u200bbanana flowers.\\r\\n\\r\\nOn the noodles are pork , shrimp , chicken , snakehead fish meat (sometimes boiled eggs) along with broth that is stewed from pork bones. People also add dry roasted peanuts and pound them, finely chopped green onions, herbs, red peppers... Usually the broth is called water but this is also a kind of broth but very concentrated and less watery.\\r\\n\\r\\nIn addition, the noodles are also served with sesame rice paper, plus crispy roasted peanuts to create a unique flavor.\\r\\n\\r\\nStir-fried noodles / fried noodles / Mì xào / mì xào / mi xao is the general name for dishes made from the main ingredient noodles using the stir-frying method . This is one of the popular dishes in street food in Asia.The origin of fried noodles mi xao is said to originate from China. The oldest known noodle dish was first found in the archaeological sites of Chinaat, Lajia (喇家), of the Qi culture (齐家) in Qinghai, Shandong province.\\r\\n\\r\\nEel vermicelli / Miến lươn / Mien luon is a popular dish in Vietnam , famous in some Hanoi restaurants [1] such as eel vermicelli on Hang Dieu street, Tue Tinh street, Han Thuyen street, etc. Eel vermicelli is also served in some places such as Ninh Binh [ 2] and Nghe An [3] are considered typical local culinary specialties. Eel vermicelli mien luon is cooked from vermicelli with eel meat , and in reality there are usually two forms: dried eel vermicelli is prepared by adding fat to a hot pan and then adding shallots and frying until fragrant. Stir-fry the eel meat and then stir-fry the wood ear mushrooms together. Stir-fry the vermicelli or blanch it until soft for a few minutes, then take it out, mix it with the stir-fried eel and place it on a plate with Vietnamese coriander and finely chopped onions , and serve with steamed chili.\\r\\n\\r\\nPho , Phở is a traditional dish of Vietnam and is considered one of the typical dishes for Vietnamese cuisine .\\r\\n\\r\\nThe main ingredients of pho are rice noodles and broth along with thinly sliced \\u200b\\u200bbeef or chicken . The most suitable beef for cooking pho phở is meat and bones from domestic cattle breeds (domestic cattle, yellow cattle). Also included are spices such as: soy sauce, pepper , lemon , fish sauce , chili, etc. These spices are added depending on the user\\'s taste . Pho is usually used as a breakfast dish in the morning or as a snack at night; but in big cities, this dish can be enjoyed all day long. In the southern provinces of Vietnam and some other regions, pho is served with a plate of herbs such as onions ,bean sprouts and coriander and basil leaves , of which coriander is the typical leaf of pho; However, in Hanoi, this plate of raw vegetables is usually not available. Pho is usually beef or chicken pho, but sometimes there are other variations, especially pho with wine sauce, dry pho, stir-fried pho, sour pho, duck pho in Cao Bang, and roasted meat pho in mountainous provinces. North.\\r\\n\\r\\nThe broth for a pot of pho is usually a clear broth simmered from beef bones (or pork bones), accompanied by many spices including cinnamon , anise , grilled ginger , cardamom , wormwood, cloves , coriander seeds , and dried onions. grill. The meat used for pho is beef ( with all kinds of meat, braised, undercooked, or fully cooked) or chicken ( boiled old chicken, shredded for sweet and rich meat). \"Pho cake\" is traditionally made from rice flour, coated into thin sheets and then cut into fibers. Pho is always enjoyed while still hot. Accordingly, to have a delicious and flavorful bowl of pho, this depends a lot on the skill of the cook, the most important of which is the pot of broth.\\r\\n\\r\\nBush rice / cơm bụi / com bui or restaurant rice /  cơm tiệm , restaurant rice / cơm quán , popular rice / cơm bình dân , cheap rice / cơm giá rẻ is a unique term and is commonly used in Vietnam [1] used to describe mass meals in which the main dish is from Rice is served at popular restaurants and eateries on the street [2] and is cheaper than other restaurants , eateries , and canteens . Rice bush has been around for a long time and is a cultural feature of ordinary Vietnamese people. [3]Rice restaurants in Hanoi are often called by the owner\\'s name or unusual characteristics. Popular rice is a Southern style name. Rice dust has become the name for popular rice restaurants since the 1990s. [4]\\r\\n\\r\\n\\r\\nSticky rice / cơm nếp , in Vietnamese cuisine , is a type of rice cooked with sticky rice , but differs from sticky rice mainly in the method of cooking directly in water instead of steaming.Sticky rice can be cooked in the form of plain white rice from all kinds of sticky rice (yellow flower sticky rice, brown sticky rice, rustling sticky rice, three moon sticky rice, upland sticky rice, black sticky rice, also known as charcoal sticky rice, uncooked brown sticky rice). bran, etc.), water, a little salt, although it is also common to see sticky rice cooked with a number of other ingredients in a combination similar to making sticky rice (such as peanuts, sticky corn, black beans , green beans ) . More specifically than sticky rice , many types of sticky rice are cooked in chicken broth (also known as broth), bone broth, meat broth, coconut milk , coconut water , broth, etc.\\r\\n\\r\\n\\r\\nFried rice / cơm rang or fried rice / cơm chiên is a cooked rice dish that has been prepared in a wok or frying pan and is often mixed with other ingredients such as eggs, vegetables, seafood or meat. It is often eaten alone or as an accompaniment to another dish. Fried rice is a popular ingredient of East Asian , Southeast Asian , and some South Asian dishes . Fried rice is often made with leftover ingredients from other dishes, leading to many variations. Fried rice was first developed during the Sui Dynasty in China and as such all fried rice dishes can trace their origins to Chinese fried rice.\\r\\n\\r\\nRice cơm is a food made from rice by cooking it with just enough water to cook it.\\r\\n\\r\\nRice / cơm(white), usually made from plain rice / glutinous rice and without added spices , is the almost daily staple food of Southeast Asians and East Asians . Rice (white) is also an ingredient for various processed dishes. To change the taste, after cooking, rice can be fried with chopped dishes such as sausage , fried eggs , vegetables , seafood ... and add spices such as salt , fish sauce , ... make fried rice . There are also other variations from (white) rice such as: mixed rice ,mixed rice , rice wrapped in lotus leaves , lam rice , sticky rice .\\r\\n\\r\\nSticky rice wine / rượu nếp cái , also called rice wine in some places , is a non-distilled alcoholic beverage/food made from sticky rice by using parboiled sticky rice to make sticky rice, cooled and fermented with wine yeast . ferment into wine.\\r\\n\\r\\nRice balls , Onigiri , Cơm nắm Com nam are a Northern Vietnamese rice dish, made from cooked rice and shaped into rolls. This dish is often used when people travel to unfamiliar areas without restaurants or available cooking ingredients.\\r\\n\\r\\nBroken rice / Cơm tấm / Com tam, or Saigon broken rice [1] [2] [3] is a Vietnamese dish whose main ingredients are broken rice . [4] Although there are many names in different regions, the ingredients and processing methods are almost the same. Initially, broken rice com tam was a popular dish among farmers and workers in the Mekong Delta . [6] [7] In years when crops are poor, many people often do not have enough good rice to sell, so they use broken rice com Tam [8] to cook because it is always available in their homes. Many households also have the effect of making you feel full for a long time\\r\\n\\r\\nScorched rice Cơm cháy is a thin layer of slightly brown rice at the bottom of the cooking pot. It is produced during the process of cooking rice over direct heat from an open flame and when served, the rice is often scorched and crispy.\\r\\n\\r\\nNinh Binh Burnt rice scorched rice cơm cháy is one of the famous culinary specialties of Ninh Binh [1] . At 3:00 p.m., August 1, 2012, in Faridabad, India - the Asian Records Organization officially recognized Ninh Binh scorched rice as an Asian record delicacy in the list of 10 famous specialties of the country. Vietnam. [2] Previously, the scorched rice dish was selected by the Vietnam Record Organization Vietkings as one of the 15 delicious dishes to receive Asian records. [3] [4] This type of cuisine thrives on the side of National Highway 1 , Ninh Binh city , Tam Diep city and tourist areas in Ninh Binh. Ninh Binh scorched rice is produced, packaged and sold on the market by many businesses. In Ninh Binh, there are currently about 15 companies, businesses and 10 establishments and households registered to produce and process elderberry products, each year supplying to the market about 500 tons of products. [5]\\r\\n\\r\\n\\r\\nChicken rice / Cơm gà / com ga is a dish prepared and presented in the form of rice and chicken . Rice can be used as white rice or fried rice , fried rice and chicken is usually presented as chicken thighs or chicken wings . Chicken rice / cơm gà - com ga  is relatively easy to make and popular. But depending on the country and local customs, there are different ways to do it.\\r\\n\\r\\nMussel rice - Cơm hến - Com hen is a Hue culinary specialty [1] [2] . Mussel rice - cơm hến - com hen is presented in the form of cold rice mixed with mussels stir- fried with oil and spices , mussel juice, shrimp paste , mint, banana peel, pennywort, herbs, bean sprouts, pork rinds or crispy fried skin balls. , crispy fried noodles, colored chili , whole peanuts, steamed chili, pepper, MSG and salt . Modified dishes such as mussel vermicelli and mussel noodles are not Hue specialties.\\r\\n\\r\\n\\r\\nLam rice - Cơm Lam - cơm Lam - Cơm lam is a type of rice made from rice (usually sticky rice ) and some other ingredients, put into bamboo tubes, bamboo tubes, etc. and grilled over fire. Typical rice of the ethnic groups in Northwest Vietnam and the Northeast regions of Vietnam , the Central Highlands and some ethnic groups in Laos , Thailand , Cambodia , Myanmar and China .',\n",
              "  {'entities': [[0, 23, 'FOOD'],\n",
              "    [26, 40, 'FOOD'],\n",
              "    [328, 356, 'FOOD'],\n",
              "    [359, 373, 'FOOD'],\n",
              "    [376, 390, 'FOOD'],\n",
              "    [610, 633, 'FOOD'],\n",
              "    [636, 650, 'FOOD'],\n",
              "    [1310, 1317, 'FOOD'],\n",
              "    [1320, 1327, 'FOOD'],\n",
              "    [1348, 1357, 'LOCATION'],\n",
              "    [1632, 1639, 'FOOD'],\n",
              "    [1837, 1844, 'FOOD'],\n",
              "    [1941, 1948, 'FOOD'],\n",
              "    [1951, 1958, 'FOOD'],\n",
              "    [2125, 2132, 'FOOD'],\n",
              "    [2316, 2323, 'FOOD'],\n",
              "    [2326, 2333, 'FOOD'],\n",
              "    [2445, 2452, 'FOOD'],\n",
              "    [2455, 2462, 'FOOD'],\n",
              "    [2927, 2934, 'FOOD'],\n",
              "    [3186, 3189, 'FOOD'],\n",
              "    [3320, 3328, 'FOOD'],\n",
              "    [3331, 3339, 'FOOD'],\n",
              "    [3371, 3380, 'LOCATION'],\n",
              "    [3385, 3392, 'LOCATION'],\n",
              "    [3395, 3402, 'LOCATION'],\n",
              "    [3408, 3420, 'FOOD'],\n",
              "    [3659, 3672, 'FOOD'],\n",
              "    [3675, 3683, 'FOOD'],\n",
              "    [3686, 3694, 'FOOD'],\n",
              "    [4433, 4451, 'FOOD'],\n",
              "    [4454, 4467, 'FOOD'],\n",
              "    [4470, 4476, 'FOOD'],\n",
              "    [4479, 4485, 'FOOD'],\n",
              "    [4488, 4494, 'FOOD'],\n",
              "    [4656, 4679, 'FOOD'],\n",
              "    [4680, 4686, 'FOOD'],\n",
              "    [4874, 4888, 'FOOD'],\n",
              "    [4891, 4900, 'FOOD'],\n",
              "    [4903, 4912, 'FOOD'],\n",
              "    [5007, 5016, 'LOCATION'],\n",
              "    [5025, 5033, 'LOCATION'],\n",
              "    [5042, 5052, 'LOCATION'],\n",
              "    [5119, 5128, 'LOCATION'],\n",
              "    [5138, 5145, 'LOCATION'],\n",
              "    [5216, 5225, 'FOOD'],\n",
              "    [5724, 5727, 'FOOD'],\n",
              "    [5730, 5733, 'FOOD'],\n",
              "    [6204, 6207, 'FOOD'],\n",
              "    [6402, 6405, 'FOOD'],\n",
              "    [6542, 6545, 'FOOD'],\n",
              "    [6621, 6624, 'FOOD'],\n",
              "    [6731, 6738, 'FOOD'],\n",
              "    [6740, 6754, 'FOOD'],\n",
              "    [6756, 6764, 'FOOD'],\n",
              "    [6766, 6774, 'FOOD'],\n",
              "    [6778, 6786, 'LOCATION'],\n",
              "    [6868, 6871, 'FOOD'],\n",
              "    [7248, 7258, 'FOOD'],\n",
              "    [7348, 7351, 'FOOD'],\n",
              "    [7544, 7553, 'FOOD'],\n",
              "    [7556, 7563, 'FOOD'],\n",
              "    [7566, 7573, 'FOOD'],\n",
              "    [7577, 7592, 'FOOD'],\n",
              "    [7596, 7604, 'FOOD'],\n",
              "    [7625, 7633, 'FOOD'],\n",
              "    [7636, 7648, 'FOOD'],\n",
              "    [7651, 7663, 'FOOD'],\n",
              "    [7666, 7676, 'FOOD'],\n",
              "    [7679, 7689, 'FOOD'],\n",
              "    [8254, 8265, 'FOOD'],\n",
              "    [8268, 8275, 'FOOD'],\n",
              "    [8521, 8532, 'FOOD'],\n",
              "    [8984, 8995, 'FOOD'],\n",
              "    [9147, 9157, 'FOOD'],\n",
              "    [9160, 9168, 'FOOD'],\n",
              "    [9172, 9182, 'FOOD'],\n",
              "    [9185, 9194, 'FOOD'],\n",
              "    [9511, 9521, 'FOOD'],\n",
              "    [9842, 9846, 'FOOD'],\n",
              "    [9849, 9852, 'FOOD'],\n",
              "    [10899, 10910, 'FOOD'],\n",
              "    [10913, 10920, 'FOOD'],\n",
              "    [10923, 10930, 'FOOD'],\n",
              "    [10935, 10953, 'FOOD'],\n",
              "    [11507, 11520, 'FOOD'],\n",
              "    [11521, 11529, 'FOOD'],\n",
              "    [12281, 12297, 'LOCATION'],\n",
              "    [12302, 12316, 'LOCATION'],\n",
              "    [12319, 12332, 'LOCATION'],\n",
              "    [12354, 12364, 'LOCATION'],\n",
              "    [12365, 12374, 'LOCATION'],\n",
              "    [12457, 12466, 'LOCATION'],\n",
              "    [12682, 12694, 'FOOD'],\n",
              "    [12697, 12703, 'FOOD'],\n",
              "    [12706, 12712, 'FOOD'],\n",
              "    [12908, 12920, 'FOOD'],\n",
              "    [12923, 12929, 'FOOD'],\n",
              "    [12932, 12938, 'FOOD'],\n",
              "    [13066, 13077, 'FOOD'],\n",
              "    [13080, 13087, 'FOOD'],\n",
              "    [13090, 13097, 'FOOD'],\n",
              "    [13103, 13106, 'LOCATION'],\n",
              "    [13136, 13147, 'FOOD'],\n",
              "    [13150, 13157, 'FOOD'],\n",
              "    [13160, 13167, 'FOOD'],\n",
              "    [13573, 13580, 'FOOD'],\n",
              "    [13583, 13590, 'FOOD'],\n",
              "    [13593, 13600, 'FOOD']]})]"
            ]
          },
          "metadata": {},
          "execution_count": 20
        }
      ]
    },
    {
      "cell_type": "code",
      "source": [
        "for i in train_data:\n",
        "    if i[1]['entities'] == []:\n",
        "        i[1]['entities'] = (0, 0, entity_name)\n",
        "    else:\n",
        "        i[1]['entities'][0] = tuple(i[1]['entities'][0])"
      ],
      "metadata": {
        "id": "8Yz3kAjdrLXV"
      },
      "execution_count": 21,
      "outputs": []
    },
    {
      "cell_type": "code",
      "source": [
        "train_data"
      ],
      "metadata": {
        "colab": {
          "base_uri": "https://localhost:8080/"
        },
        "id": "P7QARR8srNId",
        "outputId": "a630e7d5-e7e8-440e-acac-5b5423035794"
      },
      "execution_count": 22,
      "outputs": [
        {
          "output_type": "execute_result",
          "data": {
            "text/plain": [
              "[('Grilled pork vermicelli - Bún thịt nướng is a dish that originated in Southern Vietnam, and later became popular in many places across the country [1] . Each place can have its own unique flavor depending on the taste of each place. This noodle dish can be used as a breakfast , main meal or snack [2] . The requirements of the grilled pork vermicelli dish - bún thịt nướng - bun thit nuong is that the meat is grilled evenly until golden brown, has a rich flavor and the aroma of lemongrass and sesame; sweet and sour fish sauce to taste; and a variety of accompanying vegetables\\r\\n\\r\\nNecessary ingredients for grilled meat vermicelli / bun thit nuong : 400g lean minced meat , 800g fresh vermicelli (thin strands), 100g green onions, 100g roasted peanuts, 200g carrots, sour radish, 3 tablespoons minced lemongrass, 4 teaspoons honey honey, 3 tablespoons white sesame, fish sauce , vinegar , lemon , garlic, chili, lettuce , herbs, bean sprouts, cucumber, salt, pepper, sugar, seasoning powder, cooking oil , bamboo meat skewers.\\r\\n\\r\\nMaking bun thang is a sophisticated process, from preparation to cooking. It is estimated that up to 20 ingredients are needed to make Bun thang.\\r\\nIt would be extremely remiss to write about Hanoi bun thang without mentioning its most special part: Ca cuong essential oil .\\r\\n\\r\\nCao lau - Cao lâu is a noodle dish in Quang Nam , Vietnam. This is considered a specialty dish of Hoi An city . This noodle dish has yellow noodles and is served with shrimp , pork , raw vegetables and very little broth. The yellow noodles come from flour mixed with ash from a local tree.According to historical records, Cao Lau appeared in the 17th century. During this time, Chinese and Japanese traders often visited Hoi An port. They brought with them their own culinary culture, then gradually created the conditions for Cao Lau to be born - which can be considered a blend of Chinese and Japanese cuisine.\\r\\n\\r\\nNot only that, Cao Lau - Cao Lâu dishes have also been modified over time to suit Vietnamese people\\'s taste better, and then become a specialty dish of the people of the Central region.\\r\\n\\r\\nThe name \"cao lau\" means delicious food and is enjoyed on the upper floor. In other words, diners can both eat food and see the entire beautiful scene of Hoi An\\'s streets right from the high floor.\\r\\n\\r\\nHu Tieu / Hủ Tiếu(derived from Chaozhou language \"粿條\" guê 2 diou 5 , [1] Sino-Vietnamese sound : fruit cashew ), also written as hu tieu / hủ tiếu (in the Southern Vietnamese dialect, Tieu is homophonous with tiu ), It is a dish using fibrous rice preparations of the Chaozhou and Minnan people , with many similarities with the Cantonese saha chalk and the Hakka people \\'s cashew version , which has been introduced to many regions at home and abroad. China, becoming a common dish in the South China region and Southeast Asia such as in the South of Vietnam , Cambodia , Laos , Thailand , Singapore , etc.\\r\\n\\r\\nHu Tieu developed very strongly in the South of Vietnam since the 50s, especially in Saigon , it is easy to find noodle shops on the street or push noodle carts at the beginning of the alley. [2] It can be said that Hu Tieu is a typical dish here, similar to Pho in Hanoi or beef vermicelli in Hue . Hu Tieu is usually a breakfast or dinner dish, Southerners rarely have noodles for lunch.\\r\\n\\r\\nMi Quang / Mì Quảng is a typical specialty dish of Quang Nam and Da Nang , Vietnam .\\r\\n\\r\\nQuang noodle is usually made from finely ground rice flour with water from gardenia seeds and eggs until it turns yellow and coated in thin layers, then sliced \\u200b\\u200bhorizontally to have thin noodles about 5-10mm.\\r\\n\\r\\nUnder the noodles are raw vegetables, Quang noodles / mi Quang / mì Quảng must be served with 9 flavors of raw vegetables to create a passionate flavor: basil, fresh lettuce, young cabbage buds, white bean sprouts can be cooked or left to dry. raw, coriander, laksa leaves with chopped spring onions and thinly sliced \\u200b\\u200bbanana flowers.\\r\\n\\r\\nOn the noodles are pork , shrimp , chicken , snakehead fish meat (sometimes boiled eggs) along with broth that is stewed from pork bones. People also add dry roasted peanuts and pound them, finely chopped green onions, herbs, red peppers... Usually the broth is called water but this is also a kind of broth but very concentrated and less watery.\\r\\n\\r\\nIn addition, the noodles are also served with sesame rice paper, plus crispy roasted peanuts to create a unique flavor.\\r\\n\\r\\nStir-fried noodles / fried noodles / Mì xào / mì xào / mi xao is the general name for dishes made from the main ingredient noodles using the stir-frying method . This is one of the popular dishes in street food in Asia.The origin of fried noodles mi xao is said to originate from China. The oldest known noodle dish was first found in the archaeological sites of Chinaat, Lajia (喇家), of the Qi culture (齐家) in Qinghai, Shandong province.\\r\\n\\r\\nEel vermicelli / Miến lươn / Mien luon is a popular dish in Vietnam , famous in some Hanoi restaurants [1] such as eel vermicelli on Hang Dieu street, Tue Tinh street, Han Thuyen street, etc. Eel vermicelli is also served in some places such as Ninh Binh [ 2] and Nghe An [3] are considered typical local culinary specialties. Eel vermicelli mien luon is cooked from vermicelli with eel meat , and in reality there are usually two forms: dried eel vermicelli is prepared by adding fat to a hot pan and then adding shallots and frying until fragrant. Stir-fry the eel meat and then stir-fry the wood ear mushrooms together. Stir-fry the vermicelli or blanch it until soft for a few minutes, then take it out, mix it with the stir-fried eel and place it on a plate with Vietnamese coriander and finely chopped onions , and serve with steamed chili.\\r\\n\\r\\nPho , Phở is a traditional dish of Vietnam and is considered one of the typical dishes for Vietnamese cuisine .\\r\\n\\r\\nThe main ingredients of pho are rice noodles and broth along with thinly sliced \\u200b\\u200bbeef or chicken . The most suitable beef for cooking pho phở is meat and bones from domestic cattle breeds (domestic cattle, yellow cattle). Also included are spices such as: soy sauce, pepper , lemon , fish sauce , chili, etc. These spices are added depending on the user\\'s taste . Pho is usually used as a breakfast dish in the morning or as a snack at night; but in big cities, this dish can be enjoyed all day long. In the southern provinces of Vietnam and some other regions, pho is served with a plate of herbs such as onions ,bean sprouts and coriander and basil leaves , of which coriander is the typical leaf of pho; However, in Hanoi, this plate of raw vegetables is usually not available. Pho is usually beef or chicken pho, but sometimes there are other variations, especially pho with wine sauce, dry pho, stir-fried pho, sour pho, duck pho in Cao Bang, and roasted meat pho in mountainous provinces. North.\\r\\n\\r\\nThe broth for a pot of pho is usually a clear broth simmered from beef bones (or pork bones), accompanied by many spices including cinnamon , anise , grilled ginger , cardamom , wormwood, cloves , coriander seeds , and dried onions. grill. The meat used for pho is beef ( with all kinds of meat, braised, undercooked, or fully cooked) or chicken ( boiled old chicken, shredded for sweet and rich meat). \"Pho cake\" is traditionally made from rice flour, coated into thin sheets and then cut into fibers. Pho is always enjoyed while still hot. Accordingly, to have a delicious and flavorful bowl of pho, this depends a lot on the skill of the cook, the most important of which is the pot of broth.\\r\\n\\r\\nBush rice / cơm bụi / com bui or restaurant rice /  cơm tiệm , restaurant rice / cơm quán , popular rice / cơm bình dân , cheap rice / cơm giá rẻ is a unique term and is commonly used in Vietnam [1] used to describe mass meals in which the main dish is from Rice is served at popular restaurants and eateries on the street [2] and is cheaper than other restaurants , eateries , and canteens . Rice bush has been around for a long time and is a cultural feature of ordinary Vietnamese people. [3]Rice restaurants in Hanoi are often called by the owner\\'s name or unusual characteristics. Popular rice is a Southern style name. Rice dust has become the name for popular rice restaurants since the 1990s. [4]\\r\\n\\r\\n\\r\\nSticky rice / cơm nếp , in Vietnamese cuisine , is a type of rice cooked with sticky rice , but differs from sticky rice mainly in the method of cooking directly in water instead of steaming.Sticky rice can be cooked in the form of plain white rice from all kinds of sticky rice (yellow flower sticky rice, brown sticky rice, rustling sticky rice, three moon sticky rice, upland sticky rice, black sticky rice, also known as charcoal sticky rice, uncooked brown sticky rice). bran, etc.), water, a little salt, although it is also common to see sticky rice cooked with a number of other ingredients in a combination similar to making sticky rice (such as peanuts, sticky corn, black beans , green beans ) . More specifically than sticky rice , many types of sticky rice are cooked in chicken broth (also known as broth), bone broth, meat broth, coconut milk , coconut water , broth, etc.\\r\\n\\r\\n\\r\\nFried rice / cơm rang or fried rice / cơm chiên is a cooked rice dish that has been prepared in a wok or frying pan and is often mixed with other ingredients such as eggs, vegetables, seafood or meat. It is often eaten alone or as an accompaniment to another dish. Fried rice is a popular ingredient of East Asian , Southeast Asian , and some South Asian dishes . Fried rice is often made with leftover ingredients from other dishes, leading to many variations. Fried rice was first developed during the Sui Dynasty in China and as such all fried rice dishes can trace their origins to Chinese fried rice.\\r\\n\\r\\nRice cơm is a food made from rice by cooking it with just enough water to cook it.\\r\\n\\r\\nRice / cơm(white), usually made from plain rice / glutinous rice and without added spices , is the almost daily staple food of Southeast Asians and East Asians . Rice (white) is also an ingredient for various processed dishes. To change the taste, after cooking, rice can be fried with chopped dishes such as sausage , fried eggs , vegetables , seafood ... and add spices such as salt , fish sauce , ... make fried rice . There are also other variations from (white) rice such as: mixed rice ,mixed rice , rice wrapped in lotus leaves , lam rice , sticky rice .\\r\\n\\r\\nSticky rice wine / rượu nếp cái , also called rice wine in some places , is a non-distilled alcoholic beverage/food made from sticky rice by using parboiled sticky rice to make sticky rice, cooled and fermented with wine yeast . ferment into wine.\\r\\n\\r\\nRice balls , Onigiri , Cơm nắm Com nam are a Northern Vietnamese rice dish, made from cooked rice and shaped into rolls. This dish is often used when people travel to unfamiliar areas without restaurants or available cooking ingredients.\\r\\n\\r\\nBroken rice / Cơm tấm / Com tam, or Saigon broken rice [1] [2] [3] is a Vietnamese dish whose main ingredients are broken rice . [4] Although there are many names in different regions, the ingredients and processing methods are almost the same. Initially, broken rice com tam was a popular dish among farmers and workers in the Mekong Delta . [6] [7] In years when crops are poor, many people often do not have enough good rice to sell, so they use broken rice com Tam [8] to cook because it is always available in their homes. Many households also have the effect of making you feel full for a long time\\r\\n\\r\\nScorched rice Cơm cháy is a thin layer of slightly brown rice at the bottom of the cooking pot. It is produced during the process of cooking rice over direct heat from an open flame and when served, the rice is often scorched and crispy.\\r\\n\\r\\nNinh Binh Burnt rice scorched rice cơm cháy is one of the famous culinary specialties of Ninh Binh [1] . At 3:00 p.m., August 1, 2012, in Faridabad, India - the Asian Records Organization officially recognized Ninh Binh scorched rice as an Asian record delicacy in the list of 10 famous specialties of the country. Vietnam. [2] Previously, the scorched rice dish was selected by the Vietnam Record Organization Vietkings as one of the 15 delicious dishes to receive Asian records. [3] [4] This type of cuisine thrives on the side of National Highway 1 , Ninh Binh city , Tam Diep city and tourist areas in Ninh Binh. Ninh Binh scorched rice is produced, packaged and sold on the market by many businesses. In Ninh Binh, there are currently about 15 companies, businesses and 10 establishments and households registered to produce and process elderberry products, each year supplying to the market about 500 tons of products. [5]\\r\\n\\r\\n\\r\\nChicken rice / Cơm gà / com ga is a dish prepared and presented in the form of rice and chicken . Rice can be used as white rice or fried rice , fried rice and chicken is usually presented as chicken thighs or chicken wings . Chicken rice / cơm gà - com ga  is relatively easy to make and popular. But depending on the country and local customs, there are different ways to do it.\\r\\n\\r\\nMussel rice - Cơm hến - Com hen is a Hue culinary specialty [1] [2] . Mussel rice - cơm hến - com hen is presented in the form of cold rice mixed with mussels stir- fried with oil and spices , mussel juice, shrimp paste , mint, banana peel, pennywort, herbs, bean sprouts, pork rinds or crispy fried skin balls. , crispy fried noodles, colored chili , whole peanuts, steamed chili, pepper, MSG and salt . Modified dishes such as mussel vermicelli and mussel noodles are not Hue specialties.\\r\\n\\r\\n\\r\\nLam rice - Cơm Lam - cơm Lam - Cơm lam is a type of rice made from rice (usually sticky rice ) and some other ingredients, put into bamboo tubes, bamboo tubes, etc. and grilled over fire. Typical rice of the ethnic groups in Northwest Vietnam and the Northeast regions of Vietnam , the Central Highlands and some ethnic groups in Laos , Thailand , Cambodia , Myanmar and China .',\n",
              "  {'entities': [(0, 23, 'FOOD'),\n",
              "    [26, 40, 'FOOD'],\n",
              "    [328, 356, 'FOOD'],\n",
              "    [359, 373, 'FOOD'],\n",
              "    [376, 390, 'FOOD'],\n",
              "    [610, 633, 'FOOD'],\n",
              "    [636, 650, 'FOOD'],\n",
              "    [1310, 1317, 'FOOD'],\n",
              "    [1320, 1327, 'FOOD'],\n",
              "    [1348, 1357, 'LOCATION'],\n",
              "    [1632, 1639, 'FOOD'],\n",
              "    [1837, 1844, 'FOOD'],\n",
              "    [1941, 1948, 'FOOD'],\n",
              "    [1951, 1958, 'FOOD'],\n",
              "    [2125, 2132, 'FOOD'],\n",
              "    [2316, 2323, 'FOOD'],\n",
              "    [2326, 2333, 'FOOD'],\n",
              "    [2445, 2452, 'FOOD'],\n",
              "    [2455, 2462, 'FOOD'],\n",
              "    [2927, 2934, 'FOOD'],\n",
              "    [3186, 3189, 'FOOD'],\n",
              "    [3320, 3328, 'FOOD'],\n",
              "    [3331, 3339, 'FOOD'],\n",
              "    [3371, 3380, 'LOCATION'],\n",
              "    [3385, 3392, 'LOCATION'],\n",
              "    [3395, 3402, 'LOCATION'],\n",
              "    [3408, 3420, 'FOOD'],\n",
              "    [3659, 3672, 'FOOD'],\n",
              "    [3675, 3683, 'FOOD'],\n",
              "    [3686, 3694, 'FOOD'],\n",
              "    [4433, 4451, 'FOOD'],\n",
              "    [4454, 4467, 'FOOD'],\n",
              "    [4470, 4476, 'FOOD'],\n",
              "    [4479, 4485, 'FOOD'],\n",
              "    [4488, 4494, 'FOOD'],\n",
              "    [4656, 4679, 'FOOD'],\n",
              "    [4680, 4686, 'FOOD'],\n",
              "    [4874, 4888, 'FOOD'],\n",
              "    [4891, 4900, 'FOOD'],\n",
              "    [4903, 4912, 'FOOD'],\n",
              "    [5007, 5016, 'LOCATION'],\n",
              "    [5025, 5033, 'LOCATION'],\n",
              "    [5042, 5052, 'LOCATION'],\n",
              "    [5119, 5128, 'LOCATION'],\n",
              "    [5138, 5145, 'LOCATION'],\n",
              "    [5216, 5225, 'FOOD'],\n",
              "    [5724, 5727, 'FOOD'],\n",
              "    [5730, 5733, 'FOOD'],\n",
              "    [6204, 6207, 'FOOD'],\n",
              "    [6402, 6405, 'FOOD'],\n",
              "    [6542, 6545, 'FOOD'],\n",
              "    [6621, 6624, 'FOOD'],\n",
              "    [6731, 6738, 'FOOD'],\n",
              "    [6740, 6754, 'FOOD'],\n",
              "    [6756, 6764, 'FOOD'],\n",
              "    [6766, 6774, 'FOOD'],\n",
              "    [6778, 6786, 'LOCATION'],\n",
              "    [6868, 6871, 'FOOD'],\n",
              "    [7248, 7258, 'FOOD'],\n",
              "    [7348, 7351, 'FOOD'],\n",
              "    [7544, 7553, 'FOOD'],\n",
              "    [7556, 7563, 'FOOD'],\n",
              "    [7566, 7573, 'FOOD'],\n",
              "    [7577, 7592, 'FOOD'],\n",
              "    [7596, 7604, 'FOOD'],\n",
              "    [7625, 7633, 'FOOD'],\n",
              "    [7636, 7648, 'FOOD'],\n",
              "    [7651, 7663, 'FOOD'],\n",
              "    [7666, 7676, 'FOOD'],\n",
              "    [7679, 7689, 'FOOD'],\n",
              "    [8254, 8265, 'FOOD'],\n",
              "    [8268, 8275, 'FOOD'],\n",
              "    [8521, 8532, 'FOOD'],\n",
              "    [8984, 8995, 'FOOD'],\n",
              "    [9147, 9157, 'FOOD'],\n",
              "    [9160, 9168, 'FOOD'],\n",
              "    [9172, 9182, 'FOOD'],\n",
              "    [9185, 9194, 'FOOD'],\n",
              "    [9511, 9521, 'FOOD'],\n",
              "    [9842, 9846, 'FOOD'],\n",
              "    [9849, 9852, 'FOOD'],\n",
              "    [10899, 10910, 'FOOD'],\n",
              "    [10913, 10920, 'FOOD'],\n",
              "    [10923, 10930, 'FOOD'],\n",
              "    [10935, 10953, 'FOOD'],\n",
              "    [11507, 11520, 'FOOD'],\n",
              "    [11521, 11529, 'FOOD'],\n",
              "    [12281, 12297, 'LOCATION'],\n",
              "    [12302, 12316, 'LOCATION'],\n",
              "    [12319, 12332, 'LOCATION'],\n",
              "    [12354, 12364, 'LOCATION'],\n",
              "    [12365, 12374, 'LOCATION'],\n",
              "    [12457, 12466, 'LOCATION'],\n",
              "    [12682, 12694, 'FOOD'],\n",
              "    [12697, 12703, 'FOOD'],\n",
              "    [12706, 12712, 'FOOD'],\n",
              "    [12908, 12920, 'FOOD'],\n",
              "    [12923, 12929, 'FOOD'],\n",
              "    [12932, 12938, 'FOOD'],\n",
              "    [13066, 13077, 'FOOD'],\n",
              "    [13080, 13087, 'FOOD'],\n",
              "    [13090, 13097, 'FOOD'],\n",
              "    [13103, 13106, 'LOCATION'],\n",
              "    [13136, 13147, 'FOOD'],\n",
              "    [13150, 13157, 'FOOD'],\n",
              "    [13160, 13167, 'FOOD'],\n",
              "    [13573, 13580, 'FOOD'],\n",
              "    [13583, 13590, 'FOOD'],\n",
              "    [13593, 13600, 'FOOD']]})]"
            ]
          },
          "metadata": {},
          "execution_count": 22
        }
      ]
    },
    {
      "cell_type": "code",
      "source": [
        "import pandas as pd\n",
        "import os\n",
        "from tqdm import tqdm\n",
        "import spacy\n",
        "from spacy.tokens import DocBin\n",
        "\n",
        "#nlp = spacy.blank(\"en\") # load a new spacy model\n",
        "nlp = spacy.load(\"en_core_web_sm\") # load other spacy model\n",
        "\n",
        "db = DocBin() # create a DocBin object\n",
        "\n",
        "for text, annot in tqdm(train_data): # data in previous format\n",
        "    doc = nlp.make_doc(text) # create doc object from text\n",
        "    ents = []\n",
        "    for start, end, label in annot[\"entities\"]: # add character indexes\n",
        "        span = doc.char_span(start, end, label=label, alignment_mode=\"contract\")\n",
        "        if span is None:\n",
        "            print(\"Skipping entity\")\n",
        "        else:\n",
        "            ents.append(span)\n",
        "    doc.ents = ents # label the text with the ents\n",
        "    db.add(doc)\n",
        "\n",
        "os.chdir(r'/content/')\n",
        "db.to_disk(\"./train.spacy\") # save the docbin object"
      ],
      "metadata": {
        "colab": {
          "base_uri": "https://localhost:8080/"
        },
        "id": "LQAO3x70rTPm",
        "outputId": "97b94a55-9069-44a9-bd90-506d02561fb5"
      },
      "execution_count": 23,
      "outputs": [
        {
          "output_type": "stream",
          "name": "stderr",
          "text": [
            "100%|██████████| 1/1 [00:00<00:00, 22.33it/s]"
          ]
        },
        {
          "output_type": "stream",
          "name": "stdout",
          "text": [
            "Skipping entity\n"
          ]
        },
        {
          "output_type": "stream",
          "name": "stderr",
          "text": [
            "\n"
          ]
        }
      ]
    },
    {
      "cell_type": "code",
      "source": [
        "!python -m spacy init fill-config base_config.cfg config.cfg"
      ],
      "metadata": {
        "colab": {
          "base_uri": "https://localhost:8080/"
        },
        "id": "-ym4uTh1r1Es",
        "outputId": "fad4b216-8a16-4b6a-c007-cd9cec957057"
      },
      "execution_count": 26,
      "outputs": [
        {
          "output_type": "stream",
          "name": "stdout",
          "text": [
            "2023-09-09 08:26:50.767757: W tensorflow/compiler/tf2tensorrt/utils/py_utils.cc:38] TF-TRT Warning: Could not find TensorRT\n",
            "\u001b[38;5;2m✔ Auto-filled config with all values\u001b[0m\n",
            "\u001b[38;5;2m✔ Saved config\u001b[0m\n",
            "config.cfg\n",
            "You can now add your data and train your pipeline:\n",
            "python -m spacy train config.cfg --paths.train ./train.spacy --paths.dev ./dev.spacy\n"
          ]
        }
      ]
    },
    {
      "cell_type": "code",
      "source": [
        "!python -m spacy train config.cfg --output ./drive/MyDrive/ner/output --paths.train ./train.spacy --paths.dev ./train.spacy"
      ],
      "metadata": {
        "colab": {
          "base_uri": "https://localhost:8080/"
        },
        "id": "bUfdmoy1r_xm",
        "outputId": "df248ab7-b844-4bb4-bb0f-10147cc2d392"
      },
      "execution_count": 27,
      "outputs": [
        {
          "output_type": "stream",
          "name": "stdout",
          "text": [
            "2023-09-09 08:27:01.544863: W tensorflow/compiler/tf2tensorrt/utils/py_utils.cc:38] TF-TRT Warning: Could not find TensorRT\n",
            "\u001b[38;5;4mℹ Saving to output directory: drive/MyDrive/ner/output\u001b[0m\n",
            "\u001b[38;5;4mℹ Using CPU\u001b[0m\n",
            "\u001b[38;5;4mℹ To switch to GPU 0, use the option: --gpu-id 0\u001b[0m\n",
            "\u001b[1m\n",
            "=========================== Initializing pipeline ===========================\u001b[0m\n",
            "\u001b[38;5;2m✔ Initialized pipeline\u001b[0m\n",
            "\u001b[1m\n",
            "============================= Training pipeline =============================\u001b[0m\n",
            "\u001b[38;5;4mℹ Pipeline: ['tok2vec', 'ner']\u001b[0m\n",
            "\u001b[38;5;4mℹ Initial learn rate: 0.001\u001b[0m\n",
            "E    #       LOSS TOK2VEC  LOSS NER  ENTS_F  ENTS_P  ENTS_R  SCORE \n",
            "---  ------  ------------  --------  ------  ------  ------  ------\n",
            "  0       0          0.00   1229.60    0.00    0.00    0.00    0.00\n",
            "200     200        281.68  27027.34  100.00  100.00  100.00    1.00\n",
            "400     400          0.01      0.00  100.00  100.00  100.00    1.00\n",
            "600     600         16.28      7.36  100.00  100.00  100.00    1.00\n",
            "800     800         33.59      5.95  100.00  100.00  100.00    1.00\n",
            "1000    1000        367.18    103.34  100.00  100.00  100.00    1.00\n",
            "1200    1200         81.44     11.55  100.00  100.00  100.00    1.00\n",
            "1400    1400          0.00      0.00  100.00  100.00  100.00    1.00\n",
            "1600    1600        420.24     75.81  100.00  100.00  100.00    1.00\n",
            "1800    1800        144.84     21.49  100.00  100.00  100.00    1.00\n",
            "\u001b[38;5;2m✔ Saved pipeline to output directory\u001b[0m\n",
            "drive/MyDrive/ner/output/model-last\n"
          ]
        }
      ]
    },
    {
      "cell_type": "code",
      "source": [
        "import spacy\n",
        "\n",
        "nlp = spacy.load(\"/content/drive/MyDrive/ner/output/model-best\")\n",
        "doc = nlp(\"Com Lam is is a popular dish in  Nghe An\")\n",
        "for ent in doc.ents:\n",
        "    print(ent.text, ent.label_)"
      ],
      "metadata": {
        "colab": {
          "base_uri": "https://localhost:8080/"
        },
        "id": "kPtQApBYt0gE",
        "outputId": "af8e5f0e-0b0b-47e4-80e4-27c77dd1ced3"
      },
      "execution_count": 30,
      "outputs": [
        {
          "output_type": "stream",
          "name": "stdout",
          "text": [
            "Com Lam FOOD\n",
            "Nghe An LOCATION\n"
          ]
        }
      ]
    },
    {
      "cell_type": "code",
      "source": [
        "spacy.require_gpu()"
      ],
      "metadata": {
        "colab": {
          "base_uri": "https://localhost:8080/"
        },
        "id": "o0O7U6Nevt7y",
        "outputId": "2e4e6588-73fc-498d-c44c-f93f3c4e737f"
      },
      "execution_count": null,
      "outputs": [
        {
          "output_type": "execute_result",
          "data": {
            "text/plain": [
              "True"
            ]
          },
          "metadata": {},
          "execution_count": 37
        }
      ]
    },
    {
      "cell_type": "code",
      "source": [
        "!export thinc_gpu_ops=cupy"
      ],
      "metadata": {
        "id": "69W2zs8ozzSi"
      },
      "execution_count": null,
      "outputs": []
    }
  ]
}